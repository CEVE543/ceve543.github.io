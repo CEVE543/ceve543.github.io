{
  "cells": [
    {
      "cell_type": "markdown",
      "metadata": {},
      "source": [
        "# BEE 4750 Homework 1: Introduction to Using Julia\n",
        "\n",
        "**Name**:\n",
        "\n",
        "**ID**:\n",
        "\n",
        "> **Due Date**\n",
        ">\n",
        "> Friday, 9/8/23, 9:00pm\n",
        "\n",
        "## Overview\n",
        "\n",
        "### Instructions\n",
        "\n",
        "-   Problems 1-3 consist of a series of code snippets for you to\n",
        "    interpret and debug. For Problems 1 and 2, you will be asked to\n",
        "    identify relevant error(s) and fix the code. For Problem 3, the code\n",
        "    works as intended; your goal is to identify the code’s purpose by\n",
        "    following its logic.\n",
        "-   Problem 4 asks you to convert a verbal description of a wastewater\n",
        "    treatment system into a Julia function, and then to use that\n",
        "    function to explore the impact of different wastewater allocation\n",
        "    strategies.\n",
        "\n",
        "### Load Environment\n",
        "\n",
        "The following code loads the environment and makes sure all needed\n",
        "packages are installed. This should be at the start of most Julia\n",
        "scripts."
      ],
      "id": "3ce81066-db7c-46f1-bb35-dd5c8d46415c"
    },
    {
      "cell_type": "code",
      "execution_count": 1,
      "metadata": {},
      "outputs": [],
      "source": [
        "import Pkg\n",
        "Pkg.activate(@__DIR__)\n",
        "Pkg.instantiate()"
      ],
      "id": "1cd1ae0b"
    },
    {
      "cell_type": "code",
      "execution_count": 2,
      "metadata": {},
      "outputs": [],
      "source": [
        "using Plots\n",
        "using GraphRecipes\n",
        "using LaTeXStrings"
      ],
      "id": "c9fa99e3"
    },
    {
      "cell_type": "markdown",
      "metadata": {},
      "source": [
        "## Problems (Total: 100 Points)\n",
        "\n",
        "### Problem 1 (20 points)\n",
        "\n",
        "You’ve been tasked with writing code to identify the minimum value in an\n",
        "array. You cannot use a predefined function. Your colleague suggested\n",
        "the function below, but it does not return the minimum value."
      ],
      "id": "cbf9a83f-e624-4448-bb95-1061258ec151"
    },
    {
      "cell_type": "code",
      "execution_count": 3,
      "metadata": {},
      "outputs": [
        {
          "output_type": "stream",
          "name": "stdout",
          "text": [
            "minimum(array_values) = 0"
          ]
        }
      ],
      "source": [
        "function minimum(array)\n",
        "    min_value = 0\n",
        "    for i in 1:length(array)\n",
        "        if array[i] < min_value\n",
        "            min_value = array[i]\n",
        "        end\n",
        "    end\n",
        "    return min_value\n",
        "end\n",
        "\n",
        "array_values = [89, 90, 95, 100, 100, 78, 99, 98, 100, 95]\n",
        "@show minimum(array_values);"
      ],
      "id": "d36dd89a"
    },
    {
      "cell_type": "markdown",
      "metadata": {},
      "source": [
        "#### Problem 1.1 (10 points)\n",
        "\n",
        "Describe the logic error."
      ],
      "id": "984d6d4a-f894-4079-ba7a-27ce053b11ad"
    },
    {
      "cell_type": "markdown",
      "metadata": {},
      "source": [
        "#### Problem 1.2 (5 points)\n",
        "\n",
        "Write a fixed version of the function."
      ],
      "id": "1bb4926c-e24d-4c40-93c4-cb04970f5164"
    },
    {
      "cell_type": "markdown",
      "metadata": {},
      "source": [
        "#### Problem 1.3 (5 points)\n",
        "\n",
        "Use your fixed function to find the minimum value of `array_values`."
      ],
      "id": "3c3ec08d-93ea-4fcc-9e79-99574c863a4b"
    },
    {
      "cell_type": "markdown",
      "metadata": {},
      "source": [
        "### Problem 2 (20 points)\n",
        "\n",
        "Your team is trying to compute the average grade for your class, but the\n",
        "following code produces an error."
      ],
      "id": "3cab75f8-4c6f-4d86-b776-caa5abc179c9"
    },
    {
      "cell_type": "code",
      "execution_count": 4,
      "metadata": {},
      "outputs": [],
      "source": [
        "student_grades = [89, 90, 95, 100, 100, 78, 99, 98, 100, 95]\n",
        "function class_average(grades)\n",
        "  average_grade = mean(student_grades)\n",
        "  return average_grade\n",
        "end\n",
        "\n",
        "@show average_grade;"
      ],
      "id": "50dbe103"
    },
    {
      "cell_type": "markdown",
      "metadata": {},
      "source": [
        "#### Problem 2.1 (10 points)\n",
        "\n",
        "Describe the logic and/or syntax error."
      ],
      "id": "69cc5c59-bf8b-4596-afc9-d6d5d8ace2d6"
    },
    {
      "cell_type": "markdown",
      "metadata": {},
      "source": [
        "#### Problem 2.2 (5 points)\n",
        "\n",
        "Write a fixed version of the code."
      ],
      "id": "fda06d5d-62d1-4ffe-ac9f-bf201527fdda"
    },
    {
      "cell_type": "markdown",
      "metadata": {},
      "source": [
        "#### Problem 2.3 (5 points)\n",
        "\n",
        "Use your fixed code to compute the average grade for the class."
      ],
      "id": "630bdf07-87a4-4d00-a061-9813056a769e"
    },
    {
      "cell_type": "markdown",
      "metadata": {},
      "source": [
        "### Problem 3 (20 points)\n",
        "\n",
        "You’ve been handed some code to analyze. The original coder was not very\n",
        "considerate of other potential users: the function is called\n",
        "`mystery_function` and there are no comments explaining the purpose of\n",
        "the code. It appears to take in an array and return some numbers, and\n",
        "you’ve been assured that the code works as intended."
      ],
      "id": "27aac32d-ae92-4f0e-a8c9-8e69c0e2e2ad"
    },
    {
      "cell_type": "code",
      "execution_count": 5,
      "metadata": {},
      "outputs": [
        {
          "output_type": "stream",
          "name": "stdout",
          "text": [
            "mystery_function(list_of_values) = Any[1, 2, 3, 4]"
          ]
        }
      ],
      "source": [
        "function mystery_function(values)\n",
        "    y = []\n",
        "    for v in values\n",
        "        if !(v in y)\n",
        "            append!(y, v)\n",
        "        end\n",
        "    end\n",
        "    return y\n",
        "end\n",
        "\n",
        "list_of_values = [1, 2, 3, 4, 3, 4, 2, 1]\n",
        "@show mystery_function(list_of_values);"
      ],
      "id": "1a8a897f"
    },
    {
      "cell_type": "markdown",
      "metadata": {},
      "source": [
        "#### Problem 3.1 (10 points)\n",
        "\n",
        "Explain the purpose of `mystery_function`."
      ],
      "id": "60d4bfa6-9d74-4e74-b30a-be0533837a0a"
    },
    {
      "cell_type": "markdown",
      "metadata": {},
      "source": [
        "#### Problem 3.2 (10 points)\n",
        "\n",
        "Add comments to the code, explaining why and how it works. Refer to\n",
        "[“Best Practices for Writing Code\n",
        "Comments”](https://stackoverflow.blog/2021/12/23/best-practices-for-writing-code-comments/),\n",
        "and remember that bad comments can be just as bad as no comments at all.\n",
        "You do not need to add comments to every line (in fact, this is very bad\n",
        "practice), but you should note the *purpose* of every “section” of code,\n",
        "and add comments explaining any code sequences that you don’t\n",
        "immediately understand."
      ],
      "id": "c9e55c80-eaaf-484b-a1d5-2aef2251f7a0"
    },
    {
      "cell_type": "markdown",
      "metadata": {},
      "source": [
        "### Problem 4 (40 points)\n",
        "\n",
        "Cheap Plastic Products, Inc. is operating a plant that produces\n",
        "$100 \\text{m}^3\\text{/day}$ of wastewater that is discharged into\n",
        "Pristine Brook. The wastewater contains $1 \\text{kg/m}^3$ of YUK, a\n",
        "toxic substance. The US Environmental Protection Agency has imposed an\n",
        "effluent standard on the plant prohibiting discharge of more than\n",
        "$20 \\text{kg/day}$ of YUK into Pristine Brook.\n",
        "\n",
        "Cheap Plastic Products has analyzed two methods for reducing its\n",
        "discharges of YUK. Method 1 is land disposal, which costs $X_1^2/20$\n",
        "dollars per day, where $X_1$ is the amount of wastewater disposed of on\n",
        "the land ($\\text{m}^3\\text{/day}$). With this method, 20% of the YUK\n",
        "applied to the land will eventually drain into the stream (*i.e.*, 80%\n",
        "of the YUK is removed by the soil).\n",
        "\n",
        "Method 2 is a chemical treatment procedure which costs \\$1.50 per\n",
        "$\\text{m}^3$ of wastewater treated. The chemical treatment has an\n",
        "efficiency of $e= 1 - 0.005X_2$, where $X_2$ is the quantity of\n",
        "wastewater ($\\text{m}^3\\text{/day}$) treated. For example, if\n",
        "$X_2 = 50 \\text{m}^3\\text{/day}$, then $e = 1 - 0.005(50) = 0.75$, so\n",
        "that 75% of the YUK is removed.\n",
        "\n",
        "Cheap Plastic Products is wondering how to allocate their wastewater\n",
        "between these three disposal and treatment methods (land disposal, and\n",
        "chemical treatment, and land disposal) to meet the effluent standard\n",
        "while keeping costs manageable."
      ],
      "id": "0e98fbc3-8184-4710-a3db-6c1ae1bb4029"
    },
    {
      "cell_type": "markdown",
      "metadata": {},
      "source": [
        "#### Problem 4.1 (10 points)\n",
        "\n",
        "The flow of wastewater through this treatment system is shown in\n",
        "[Figure 1](#fig-wastewater). Modify the edge labels (by editing the\n",
        "`edge_labels` dictionary in the code producing\n",
        "[Figure 1](#fig-wastewater)) to show how the wastewater allocations\n",
        "result in the final YUK discharge into Pristine Brook. For the\n",
        "`edge_label` dictionary, the tuple $(i, j)$ corresponds to the arrow\n",
        "going from node $i$ to node $j$. The syntax for any entry is\n",
        "`(i, j) => \"label text\"`, and the label text can include mathematical\n",
        "notation if the string is prefaced with an `L`, as in `L\"x_1\"` will\n",
        "produce $x_1$."
      ],
      "id": "881c549b-2406-44fd-bb82-01b0410997da"
    },
    {
      "cell_type": "code",
      "execution_count": 6,
      "metadata": {},
      "outputs": [
        {
          "output_type": "display_data",
          "metadata": {
            "ref-parent": "fig-wastewater"
          },
          "data": {
            "text/html": [
              "<img src=\"data:image/png;base64,iVBORw0KGgoAAAANSUhEUgAAAoUAAAHMCAIAAAAs9EW6AAAABmJLR0QA/wD/AP+gvaeTAAAgAElEQVR4nOzdeVzM+eMH8E+lw1GJlERIikq6VRSRjZScHauciXJE7nOz1hHS5ShZR0Uq0eEoV4RQTfeB0mXVIke6NNXM74/Zn+8e1oaZec/xev6xD2ZnPu+XlNe8P/P+vD8iTCaTAgAAAKJESQcAAAAA9DEAAAAPQB8DAACQhz4GAAAgD30MAABAHvoYAACAPPQxAAAAeehjAAAA8tDHAAAA5KGPAQAAyEMfAwAAkIc+BgAAIA99DAAAQB76GAAAgDz0MQAAAHnoYwAAAPLQxwAAAOShjwEAAMhDHwMAAJCHPgYAACAPfQwAAEAe+hgAAIA89DEAAAB56GMAAADy0McAAADkoY8BAADIQx8DAACQhz4GAAAgD30MAABAHvoYAACAPPQxAAAAeehjAAAA8tDHAAAA5KGPAQAAyEMfAwAAkIc+BgAAIA99DAAAQB76GAAAgDz0MQAAAHnoYwAAAPLQxwAAAOShjwEAAMhDHwMAAJCHPgYAACAPfQwAAEAe+hgAAIA89DEAAAB56GMAAADy0McAAADkoY8BAADI60I6AADwlvr6+hs3bjAYDLYczcjIaNCgQWw5FIBgE2EymaQzAAAPmT9/fnl5ed++fb//UG1tbaWlpbm5uV264K0/wH9AHwPA/9BoNCcnp4KCAikpKbYccNasWRYWFitXrmTL0QAEGPoYAP7AZDLNzc3XrFkzffp0dh2zurra1NQ0Ly9PXl6eXccEEEhYzwUAf4iIiJCUlGRjGVMUpaKismDBgp9++omNxwQQSJgfAwBFUVRzc7O2tnZ8fLyOjg6/HBlAkGB+DAAURVG7du2ysbHhRGV269Ztx44dq1atYvuRAQQJ5scAQFVUVIwePTo/P59Dn/IymUwLC4vVq1fPmDGDE8cHEADoYwCgZs6cOW7cuBUrVnBuCBqN5ujoWFhYyK6V2wACBuerAYRdamrq48ePly5dytFRDAwMxowZc/DgQY6OAsC/MD8GEGodHR36+vr79u2ztrbm9FgvX77U19fPzMzs168fp8cC4DuYHwMItdDQ0MGDB3OhjCmKUlRUXL58+aZNm7gwFgDfwfwYQHi9e/dOW1s7NTVVXV2dOyPS6fQRI0aEh4ePGjWKOyMC8AvMjwGEl4+Pj6urK9fKmKIoCQmJvXv3Llu2jF33qwAQGJgfAwipkpKSiRMnFhUVycrKcnloa2vrOXPmzJ07l8vjAvAy9DGAkJo8ebKDg8OCBQu4P3RxcbG1tXVRUZGMjAz3RwfgTThfDSCMEhMTX716NW/ePCKja2pq2tvb+/r6EhkdgDdhfgwgdOh0uo6OTlhYmLm5OakMrKVkt2/fHjp0KKkMADwF82MAoRMQEGBoaPhVZdzU1PTu3Ts2ZpCTk9u4cePGjRvZeEwAvoY+BhAur1698vf337179xeek5qaamhoaGhoaGlpefr0aYqiLl68uHfv3k4O8eLFC9arvszT07O0tPTatWudPCyAYEMfAwiXTZs2eXp6qqiofOE57969U1NTy8rKOnny5JYtW/Lz8//8fxsbG1+8ePG3j7rodHpdXR3r17///ntcXNx/JhETEwsICPD29m5vb//6PweAoOlCOgAAcE9OTs7NmzeLi4s7+fxBgwaNGDHi2bNnnx45dOhQcnKytLT0kydPLly4MGjQoM2bN5eVlbW2tj5//nzq1Kk+Pj6BgYE0Gs3BwWHq1KkuLi5fOP748ePV1NSOHTvm6en5XX8wAP6H+TGAENm4ceOuXbu6dev2n898+fLl9evX/f39s7OzTU1NPz2+bNmyS5cuRUVFtbe379mzh/Vgnz59EhIS0tPTw8LCKIry8vIyMDCIiYn5chmzHDhwwMfHh06nf+ufCUBAoI8BhIiurm5mZmZnnvn777/fvHlTTEwsMzOzb9++nx5PSEgwNzefMmUKg8F4+/Yt60FDQ0OKoqSkpKSkpD5+/PhVkWg02rBhwyQkJL7qVQCCB+erAYTI1q1btbS03NzctLW1v/zMkSNHfnYB1/r16zMyMnr27BkdHX3hwgXWg6Kif7yzFxERYf22kx8Jt7S0bNq0KSYm5iv+DAACCvNjACEiLS3t4+OzatWqbz6CgoJCbGzstWvXDh8+/G/PUVFRKSwsPHXq1N8Wgv2Tr6/vxIkTWdNrACEn5uPjQzoDAHDPyJEjjxw50rdvXw0NjX97jpSUlKqqqqqq6p8fGThw4IABA6ytrdPS0hoaGry9vdXU1FRVVaWlpYcOHdq7d2+KohQUFEaMGNG9e/fx48e/ePGiV69e/fv3/7dRfvvttyVLlpw7d65Hjx7s/TMC8CPszwUgdB48eDB37tzCwkJJSUmCMZycnIyNjb29vQlmAOAdOF8NIHRMTU2NjY2DgoIIZkhPT8/Ozl62bBnBDAA8BfNjAGH04sULQ0PD7OxsJSUl7o/OYDBGjRq1Y8cOGxsb7o8OwJswPwYQRsrKyh4eHtu2bSMy+q+//ionJ4cyBvgzzI8BhFRLS4u2tva5c+eMjIy4OW5DQ4O2tva1a9e+sKAMQAihjwGEV2xsrL+///3791nXDXPH2rVrmUymn58f10YE4AvoYwChZmlp6e7u7uzszJ3hysrKLC0tCwoKevbsyZ0RAfgF+hhAqOXl5dnb2xcVFXXv3p0Lw9na2trb2y9evJgLYwHwF6znAhBqI0eOnDRpkq+vLxfGunHjxosXLxYuXMiFsQD4DvoYQKh9/Pixubk5KCiosrKSowO1t7evXr06ICBATEyMowMB8Cn0MYDwqqysHD16dNeuXbds2bJx40aOjhUcHKylpTV27FiOjgLAv3B/JwAhdfXqVTc3tx07dri5ubW3t+vp6d25c4dDffn27Vs/P7979+5x4uAAggHruQCEDpPJ3LdvX0hISExMzKeLj2/cuLFu3bqsrCxOnE9eunRp3759cfcagC/A/BhAuLx7987V1ZXBYNBotF69en163MrKSllZ+cSJE2xf/JyXl5ecnFxUVMTewwIIGHx+DCBEcnNzjY2NDQ0NL1269OcyZgkICPj555/fv3/P3kFXrVq1Z88e7lxPBcC/0McAwiIyMtLGxmb//v0+Pj6iop/52VdTU3N0dPzll1/YOGhsbGxra6uTkxMbjwkgkPD5MYDga21tXb9+fVpaWlxcnKqq6heeWV9fr62tnZiYOGjQoO8fl06nm5mZRUdHGxoafv/RAAQbPj8GEHDV1dWzZs0aMWLEgwcPpKSkvvxkWVnZ3bt3z5o169+eQKfTW1tbpaWlv3CQxsZGMTGxrl27UhRlb2+PMgboDMyPAQTZtWvXFi5c+NNPP7FrldahQ4eqq6v37dv3heeUlJTY2NiUlZVh6w+AzsPnxwCCiclk+vr6LlmyJC4ujo1Lpp8/fz5gwIAvP2f48OFDhw5NTExk16AAwgB9DCCAPnz4MHPmzJSUlEePHo0aNYqNR66srBw4cOB/Pm3FihVBQUFsHBdA4KGPAQRNbm6ugYHBiBEjbty4oaCgwN6DV1dXd6aPbW1ta2tr8/Ly2Ds6gABDHwMIlIiICBsbm3379u3YseOzFzV9p6qqKhUVlf98moiIyNKlSw8dOsT2AACCCuu5AAQE66Kmu3fvnj9//ssXNX3PEH379n337l1nnlxfX6+url5cXNy7d29OhAEQMJgfAwiCiooKMzOzlpaW9PR0DpUxRVHV1dWdmRyzyMrKOjg4hIWFcSgMgIBBHwPwvcuXL5ubm69YseLYsWP/eYXx9+jkYq5PVq5cefjw4ba2Ns5FAhAY6GMAPsa6qGnFihUXL16cP38+p4erqqr6qj4eOnToiBEj4uPjORcJQGCgjwH4VV1d3eTJk+/du0ej0T7dNpGjKioqBg8e/FUvwYVPAJ2EPgbgSw8ePDAyMrK0tExMTJSTk+POoJWVlV+7r/WkSZPq6uqysrI4kwhAcKCPAfhPUFCQo6PjyZMnN2zYICIiwrVxv6GPRUREli1bdvjwYc4kAhAcuN4JgJ80Nja6ubnV1NScO3euX79+XB5dSUmppKSkZ8+eX/WqhoYGNTW1goICtm9OAiBIMD8G4BuPHz82NTVVVFS8efMm98u4ubmZTqd/bRlTFCUtLf3jjz8eO3aME6kABAb6GIA/REZGWllZ7dy5MzAwUFxcnPsBvmEx1ydeXl6hoaF0Op29kQAECfoYgNe1trZ6eXkdPHjw9u3b06ZNIxWjvLz8m/t40KBBenp658+fZ28kAEGCPgbgadXV1WPHjn337t29e/fU1NQIJnn27Nn3BFi5cqW/vz8b8wAIGPQxAO9KSEgwMzPz9PQMDw/v1q0b2TDl5eXfsxOnlZUVnU5/9OgRGyMBCBL0MQAvam9vX7du3caNG5OTk+fOnUs6DkVRVHl5+ZAhQ77nCJ6entgbBODfoI8BeM6LFy8sLS3LysoePHigra1NOs4fysrKvvOEuaur682bN2tra9kVCUCQoI8BeMvt27dNTExsbW0vXrz4DRcXcUhHR0dNTU3//v2/5yDdunWbN2/e0aNH2ZUKQJBgPxAAXsFgMH7++eeIiIioqChjY2PScf6ioqLC1ta2qKjoO49TXV1tYmJSXl7O0ftQAfAjzI8BeMLr169tbGxoNFpmZiavlTFFUaWlpUOHDv3+46ioqJiZmZ07d+77DwUgYNDHAOSlpaUZGhqamJgkJCT06tWLdJzPYFcfUxTl5eWFVV0A/9SFdAAAocZgMPbu3RsWFnb27NnRo0eTjvOvSktLNTU12XIoc3NzMTGxu3fvmpubs+WAAIIB82MAYurq6qZMmXL37t3MzExeLmOKop48eaKurs6uoy1btgxTZIC/QR8DkJGRkWFiYjJq1KjLly/Ly8uTjvMfnjx5oqGhwa6jOTs7379/v7q6ml0HBBAA6GMAbmMymYGBgTNnzgwJCfHx8REV5fUfw9bW1nfv3vXt25ddB5SUlHRzc8NNkQH+DNc7AXBVXV3dvHnz2tvbIyMj+/TpQzpOpxQWFi5YsCAzM5ONx6ytrdXT03v27Fn37t3ZeFgA/sXrb8wBBElGRoapqamRkdHVq1f5pYwpiiopKRk+fDh7j6mkpGRlZRUZGcnewwLwL/QxADewzlE7OTmdOHGCL85R/1lJScmwYcPYftjVq1cHBQXhFB0ACz/9owDAp169emVjY5OSkpKRkcGPF/k8fvyYE31sYGAgKyt748YNth8ZgB+hjwE4KzU11cjIaNy4cXyxjvqziouL2XXx8d94eXkFBgZy4sgAfAfruQA4paOjY+fOnadPn46IiBgzZgzpON+oo6Ojd+/edXV1Xbqwf/ugtra2IUOG3Lx5k12bfwHwL8yPATiipqbGysoqNzeXRqPxbxlTFFVeXj5gwABOlDFFUeLi4h4eHocOHeLEwQH4C/oYgP2uXLlibGw8bdq0ixcv8uZ+1J1XWFjI0XswL126NDo6ur6+nnNDAPAF9DEAO7W3t/v4+KxYseL8+fNeXl4iIiKkE32vwsJCLS0tzh1fTk7O3t7+5MmTnBsCgC+gjwHYpqqqysLCoqioiEajmZiYkI7DHpyeH1P/f8enjo4Ojo4CwOPQxwDsce7cOVNTU3d399jY2J49e5KOwzb5+fk6OjocHUJTU1NNTe3SpUscHQWAx2F9NcD3ampqWrlyZXZ29rlz59h40wVe0NLSoqys/ObNG06feL98+bKfn9+tW7c4OgoAL8P8GOC7FBUVmZqadunSJT09XcDKmKKooqKi4cOHc+FT8MmTJ7948SIvL4/TAwHwLPQxwDdiMpnBwcHW1ta7du0KDQ3t2rUr6UTsl5eXx+mT1SyioqIrVqzATZFBmHHkmkIAgff69euFCxc2Nzc/evRIWVmZdBxOycnJ0dPT485Y8+fP/+WXX16+fKmoqMidEQF4CubHAF/t1q1bhoaGBgYG165dE+AypigqNzdXV1eXO2P16NHDxcUlNDSUO8MB8Bqs5wL4CnQ6fdu2bRcuXIiMjBw1ahTpOJzFYDDk5eVfvHjBtVPxVVVVZmZm5eXlkpKS3BkRgHdgfgzQWU+fPjUzM6upqaHRaAJfxhRFPX36VEVFhZufiw8cONDExCQmJoZrIwLwDvQxQKeEh4ePGzfOy8srIiJCRkaGdBxuoNFoBgYGXB7Uy8srICCAy4MC8AKs5wL4D/X19R4eHs+ePUtLS1NTUyMdh3toNJq+vj6XB7WwsKAo6u7du/x4o2iA74H5McCX3Lp1S1dXV11d/f79+0JVxhRFZWRkGBsbc39c3BQZhBPWcwF8Xltb265duyIiIk6ePMmatAmVjo6OPn361NbWcn9pFZ1OV1VVTUtLU1VV5fLQAARhfgzwGSUlJSYmJsXFxVlZWUJYxhRFFRYWDhkyhMg6ZwkJCXd39yNHjnB/aACC0McAf8FkMg8dOmRlZbVhw4aYmBg5OTnSich48OCBqakpqdE9PDwiIiI+fPhAKgAA96GPAf6npqZm8uTJFy9efPjwoYODA+k4JD169IjgNV19+vSxs7M7deoUqQAA3Ic+BvhDXFycsbGxpaXl9evXBwwYQDoOYQ8ePCB7C+dVq1YFBgbipsggPHC9EwBVX1+/cuXKvLy85ORkbW1t0nHIq6urq6+vHzJkCMEM2tragwcPvnz58tSpUwnGAOAazI9B2KWmpurp6fXt2/fRo0coY5b79++bmZmRTkGtWrUKe4OA8EAfg/D6+PHjxo0b3dzcTp486evriz2TP7l///7o0aNJp6CmTJlSW1ubm5tLOggAN6CPQUhlZ2cbGhq+efMmNzd37NixpOPwlrS0NF74moiIiCxfvhx7g4CQwH4gIHTa29t37959/PjxI0eO2Nrako7Dc5qamgYMGPDq1asuXcivL2lublZTU8vOzu7bty/pLACchfkxCJeSkhJTU9PCwsLs7GyU8Welp6ePGjWKF8qYoqhu3bq5urqGhISQDgLAcehjEBYMBsPPz2/ixIlr1qyJiYmRl5cnnYhH3bp1y9LSknSK/1m5cmVYWNjHjx9JBwHgLPQxCIXS0lILC4vU1NTMzEwnJyfScXhaamrq+PHjSaf4H2VlZXNz8zNnzpAOAsBZ6GMQcEwm89ixY+PGjZs7d+6lS5eUlJRIJ+Jp9fX1ZWVlenp6pIP8xZo1a/z9/bHYBQQbT3xEBMAhz549W7RoUdeuXR89etS/f3/ScfhAamqqhYWFmJgY6SB/YWRkJCMjc+PGjYkTJ5LOAsApmB+DYGIwGEFBQebm5i4uLleuXEEZd9LNmzcnTJhAOsVnrF692t/fn3QKAA7C9U4ggMrLy93c3CQkJMLCwrAT9VcZNmxYYmKiuro66SB/19HRoaGhkZiYqKmpSToLAEdgfgwCpaOj4+DBg+bm5q6ursnJySjjr1JZWUmn03mwjCmKEhMT8/DwwN4gIMDQxyA4ioqKxowZk5qampGRsWDBAtJx+E9KSoq1tTXpFP/Kzc0tISGhrq6OdBAAjkAfgyBob2/39fW1srJasGBBUlKSsrIy6UR86erVq5MmTSKd4l/Jyso6OTlhbxAQVPj8GPgejUZbtGjRsGHDgoKCFBQUSMfhV62trcrKypWVlT169CCd5V9VVlaOHj362bNnUlJSpLMAsBnmx8DHWlpafHx8ZsyYsW3btnPnzqGMv8edO3cMDQ15uYwpiho0aJCpqWl0dDTpIADshz4GfnX37l19ff3y8vKcnJyZM2eSjsP3kpKS7OzsSKf4b6tXr/bz88OJPRA86GPgP2/fvl24cOHixYtDQ0PDw8N79epFOpEguHz58pQpU0in+G+jR4/u1q3brVu3SAcBYDP0MfCZpKQkfX19aWlpGo1mYWFBOo6AyM/Pl5aWHjRoEOkgnbJq1SrsDQKCB+u5gG9UVVV5eHi8ffs2LCxsxIgRpOMIlB07djAYjB07dpAO0int7e1qamrJycnDhg0jnQWAbTA/Bj7Q3t5+8OBBU1PTyZMnp6eno4zZLiEhwd7ennSKzurSpcvy5csDAgJIBwFgJ8yPgdfl5ua6u7srKioePnxYRUWFdBwBVFlZOW7cuIqKChEREdJZOuvDhw/q6up5eXmKioqkswCwB+bHwLsaGhq8vLymT5++ZcuWpKQklDGHxMXFTZ8+nY/KmKIoGRmZH3/8MTQ0lHQQALZBHwOPiouL09bWFhUVzc/P56NTqfzo4sWLM2bMIJ3iq3l5eYWGhn78+JF0EAD2wPlq4DkVFRXLly+vra0NCQkxNjYmHUfAvXjxYtSoUdXV1aKi/Pfu3NHR8Ycffli0aBHpIABswH8/gSDA6HT67t27R48ebWNjk5WVhTLmgvPnz8+YMYMfy5iiKG9vb39/f0wqQDDw5Q8hCKQ7d+7o6+s/ePAgIyNj2bJlfNoQfOf8+fOzZs0ineIbjRo1qmfPnikpKaSDALABzlcDeb///vvatWtpNNrhw4fHjx9POo4Qef78uampaVVVlZiYGOks3+jixYtHjhy5fv066SAA3wtTECCpo6MjKChIX19fU1MzLy8PZcxl0dHRs2fP5t8ypijK3t6+qqoqNzeXdBCA74U+BmKysrJMTU2vX7+enp6+efNmCQkJ0omETnR0tKOjI+kU30VUVNTLywvbZ4IAwPlqIODVq1cbN268e/duQEAAX9zDQCCVlZVNnDixvLycv648/qfm5uYhQ4ZkZmb279+fdBaAb4f5MXBVR0fHoUOHdHV1Bw4cWFBQgDImKDIy0sXFhd/LmKKobt26LVq06PDhw6SDAHwXzI+Be+7fv798+fKBAwf6+/sPHjyYdBxhp66unpCQMHz4cNJB2KC2tlZPT6+srKxHjx6kswB8I8yPgRtqa2tdXV0XLFiwa9eu+Ph4lDFxDx8+lJWVFYwypihKSUnJxsbm+PHjpIMAfDv0MXBWW1tbYGCgvr7+kCFD8vPzbWxsSCcCiqKoiIgIFxcX0inYaf369UFBQe3t7aSDAHyjLqQDgCBLTk5evXr1yJEjsdaGp9Dp9AsXLuTk5JAOwk7Dhg0bNmxYXFwcv68YB6GFPgaOKCsr8/b2rq6uDgkJGTt2LOk48BdJSUlGRkZ9+/YlHYTN1qxZs3HjRvQx8CmcrwY2a2xs3LRp09ixYydNmkSj0VDGPCg8PHzu3LmkU7DfhAkTGAzGnTt3SAcB+BboY2AbJpMZERGhpaXV0NBQUFDg6enJ1xs/CapXr149evTIzs6OdBCO8Pb29vPzI50C4FvgeidgDxqN5uXlJSEhERAQoKOjQzoO/Cs/P7/Kysrg4GDSQTiivb196NChly9f1tTUJJ0F4Ougj+F71dTUbNq06f79+/v3758+fTrpOPAfRowYER4erqenRzoIpxw8eLC4uBjXPgHfwflq+HZ0Oj0wMNDAwGDw4MGFhYUoY9736NEjUVFRAS5jiqIWL1586dKl2tpa0kEAvg76GL4Fk8mMjo4eNmxYfn5+Tk6Oj4+PlJQU6VDw33799dfFixeTTsFZ0tLS8+fPF9QT8iDAcL4avlpGRsbq1avFxMT8/f0NDAxIx4HOamxsHDJkyOPHj+Xk5Ehn4ayXL1/q6ek9efJEWlqadBaAzsL8GL7Cb7/95urq6uzsvHr16rS0NJQxfzl37twPP/wg8GVMUZSiouKkSZNOnDhBOgjAV0AfQ6c0NTX5+PgYGRlpaWkVFRXNmjWLdCL4asePH3dzcyOdgkvWrl0bGBiI7TOBj6CP4T8wmczY2NgRI0aUl5fn5ORs3LgRHxXzo/z8/Pfv31tYWJAOwiWampra2toxMTGkgwB0Fj4/hi+5ffv2mjVr5OXl/fz8tLW1SceBb7d8+fLBgwevWbOGdBDuuXv37vLly3NzcwXgHs8gDLB/NXze06dP169fX1paun//ftyUid81NzefP38+Pz+fdBCuMjc379Gjx40bNyZOnEg6C8B/w/lq+Ls3b954eXmNHz9+0qRJeXl5KGMBcPbs2QkTJigoKJAOwm1r167dv38/6RQAnYI+hv9pbW09cODAiBEjunXrVlxcvHTp0i5dcAZFEBw7dmzJkiWkUxBgb29fXV0tYHeWBEGFPgaK+v/9PTQ1NfPy8h4+fLhnzx4ZGRnSoYA9cnJyGhsbzc3NSQchQFRU1Nvbe9++faSDAPw3rOcC6t69e2vXru3atev+/fsNDQ1JxwE2c3NzGzly5IoVK0gHIaO1tVVNTS01NVVNTY10FoAvQR8LtadPn27dujU/P3/nzp2zZ88mHQfY7/379xoaGk+fPpWVlSWdhZg9e/a8ePHi0KFDpIMAfAnOVwup169fr1ixYsKECePHjy8sLEQZC6rTp09Pnz5dmMuYoqhly5adP3/+999/Jx0E4EvQx0KnpaXF19d35MiR3bt3LyoqwqItAcZkMkNCQoRzJdefycjIuLq6Hj16lHQQgC9BHwsRBoNx8uTJ4cOHl5aWZmZm7t27F4u2BExpaemfd4i8efNmr169BPvuip20atWqsLCwpqYm0kEA/hX6WFgkJyfr6urGxMQkJSUdP35cWVmZdCJgv5UrV2ZkZHz67dGjRz09PQnm4R3KysqTJ08OCwsjHQTgX+FEpSAoLi5WUlL6t/v25OTkrF+//s2bNwcPHrSysuJyNuAmWVnZt2/fsn7922+/PXz48OzZs2Qj8Y7169f/8MMPnp6eEhISpLMAfAbmx3zv9evX1tbWtbW1//xfVVVVrq6uM2bMmDdvXlZWFspY4PXs2fP9+/esX4eEhCxYsEBSUpJsJN6hoaFhYGCANyjAs9DHfM/Dw8PT01NTU/PPD759+3bt2rWmpqYjR44sKSlxcXERFcXfteD71Md0Ov3kyZPu7u6sx1lLB1pbW4mmI2/Tpk2+vr4MBoN0EIDPwL/R/O348eO1tbXr16//9MjHjx/379+vra0tIiJSWFi4du1a3B5ReMjJyb17946iqJiYGNlbA2gAACAASURBVBMTExUVFYqimpubZ82aFRcXh/dkRkZGSkpKiYmJpIMAfIaw/3zytfLy8u3bt586dUpMTIyiKAaDERsbq62tnZmZee/evf379/fq1Yt0RuCqT/PjI0eOsFZy1dbWjhs3rk+fPvHx8eLi4qQDkrdhwwZfX1/SKQA+A33MrxgMxoIFC3bt2jV06FCKolJSUvT19Y8fP37+/PmYmBhVVVXSAYEAVh/TaLT379+zdnoZM2aMi4tLaGgorjJnsba2ptPpt2/fJh0E4O+wXya/+uWXX7KysuLj4wsLCzdu3FhZWbl3715bW1vSuYCka9euhYSEyMjIGBsbq6mpLVy48OjRo3Z2dqRz8ZbY2Njjx4+npKSQDgLwF5gf86Xs7GzW6lk1NTUbGxtnZ+f8/HyUMfTs2bOmpubMmTPt7e3u7u6JiYko43+aOXNmVVVVVlYW6SAAf4H5Mf/5+PHjyJEjOzo6Kioq7Ozszpw50717d9KhgCc8ffrU0NBQUlJy0KBBiYmJSkpKpBPxqF9//TU5OTk2NpZ0EID/EbQ+zs7OjomJIZ2Cs06cOPH27dvu3burqKiIiIh0dHTQ6XQGg/Hpvz169HB0dGTjiKKiogsXLhS229UFBgZ+9qpuXtbU1HT06NF+/frNnj2bN1dv9evXb+XKlaRTUG1tberq6pcvX/7bhYIABAlaH2/fvj07O1s4b73OOZcuXXJxcRG22xL06NFj69atIiIipIMIDiaT+csvvzQ2NpIOQlEU5e/vX1BQcOLECdJBAP4ggEsuLS0t16xZQzqFQHn58iXpCGRs2LABfcxGrD4mneIP7u7u6urqVVVVAwcOJJ0FgKKwngsAhFP37t2XLFni5+dHOgjAH9DHACCkvLy8YmJi+G6VAAgq9DEACClZWdn58+cHBQWRDgJAUehjABBmq1evPnnyJGvTbwCy0McAILwUFRUdHBwOHz5MOgiAIK6v/jZJSUlMJnPq1KnffAQtLa2ioiLWr1taWli7+f9ZcHBwjx49Onm0ioqK5uZmLS2tb87zZ1VVVfX19To6Omw5Gvyb5ubmI0eOPHr0qKOjw8LCwt3dPTs7Ozw8/NixY99/8DVr1rx9+/bPj2zcuFFDQ6OTL3/z5s3Tp09NTU2/PwlFUe/evSsqKhozZgxbjkbW+vXrjY2Nvby8pKWlSWcBoYb58R9yc3Nzc3O/5wj19fWffi0hIbFs2bJly5Z17dpVXFyc9euvuu/hzZs32bixyd27d8+cOcOuo8G/mT59enV19Z49e/bv30+n09PT09vb25uamthy8Hnz5i1btkxLS6u6upr1HaWsrNz5lz958uTgwYNsSUJRVEVFhcDcJal///62trahoaGkg4Cww/z4X82dO7e6urqlpWX+/PkeHh4URU2aNGny5MkXLlwQExM7c+aMkpLSb7/9tmjRoo6ODmtr6z+/VkxMzNDQkKKo5OTktrY2Q0PDkJCQ+Pj47OzsoUOHbt++3cvL6/nz5xISEv7+/tra2jdv3ty1a1d7e7u0tHRoaKi8vHxoaGhzc3NJSYmXl1dBQcGbN28ePHhQWVm5b9++1NTU27dvq6ionDt3Tlxc/OnTp97e3o2NjXJyciEhIYqKimvXru3Xr19ycnJdXd2hQ4dGjRoVHBxcX19fUVHh6ek5btw4Il9PgZeSkvLu3bvAwEDWJcusm1Lfvn27oaFhwYIF+fn55ubmAQEBFEU9evRoy5YtdDpdVVX18OHD3bt3d3Z2NjY2TkpKotPpwcHBO3fuLC0tdXNz8/Ly+nR81umN58+fy8nJGRoaXrt2bdu2bVVVVQwGIzo6esOGDTk5OQwGY/v27RMnTnzy5Mny5ctbW1vFxMQOHjyop6cXGBj48OFDBweHGTNm9OrV69atWxUVFcXFxZ6enu3t7VFRURISEjExMQoKCnV1dV5eXr/99puEhERAQICWltbhw4cbGhru379fVVW1efNmJyenwMBAGo3m4OBgZ2fn6upK6EvONhs3brSwsGC9gSadBYQYU7Bs27btwIED3/DCn3/+eceOHX9+5OXLl0wm8+PHj0ZGRs+fP2cymX369ImLi2Mymfv379+6dSuTyZw9e/bZs2eZTOavv/6qpKT0z8Pu3Llz+/btTCZz+/bt48ePb21tZTKZP/74Y1RUVFRU1LFjx0xMTJhMZl1dXXt7O5PJjI2NdXd3ZzKZYWFhrBeyXmtra9ve3l5YWCglJZWWlsY6SHx8PIPB0NfXz83NZTKZcXFx8+fPZzKZ06ZNW7NmDZPJvH///vjx45lMZkRExPr167/hy8KyevXqkJCQb345n+revTuDwej883fv3u3t7f23B1NTU5WUlF69etXe3m5iYpKXl9fQ0KCpqcn6jvLz82N91+no6Bw9epTJZP7yyy/Dhw9///59U1NT//79W1pa/nbACxcuzJw5k8lkRkVFqaqqvn37tqWlxczMbNOmTUwm882bN5qamk1NTfX19azXss4qM5nM+/fvz5o1i3WQqKio4cOHNzQ0vH//nvXmjzX0rl27mEymo6NjTEwMk8ksLCw0MzNjMpmbN2+2s7Nra2urra0dOHAgk8mk0Wi2trZf+RVlMhiM7t27f+2ruMPFxeXQoUOkU4BQw/z4X124cCExMVFCQuL169dPnz7t37+/qKgo6wNmfX3906dPUxR1//79s2fPUhTl6Oi4devWLx9w+vTpEhISFEVdu3ata9eulZWVkpKSJSUlra2tDQ0Nq1evfvPmjYiIyJ/Pe39iY2MjJiamqanZvXt31m6gOjo6VVVVtbW15eXlR44coSiqra3t4cOHn8Zi5ayqqmLj1wS+7LObeY0ePbpPnz4URenq6lZVVTU0NDQ0NOzcuZOiqDdv3jQ3N7OeZm9vT1GUjo5OaWmprKwsRVH9+/d/+fLlF3aP+uGHH+Tk5D5+/FhVVVVcXMza0LSxsfHp06eDBw9eu3bts2fPpKWlS0tL//na8ePHs1Yz9O3bl3VnMB0dnUuXLlEUdf36dWlp6Rs3blAUVVhY2NbWRlGUnZ1dly5d+vbtKyYm1tra+n1fJ160efNmGxubxYsXs35IAbgPffx5NBotNjb2ypUrkpKSM2bMYP2TJCoqyrqpu6ioKIPBoChKXFycTqd36dKlM/9Cffr8WFJSctWqVd26dWP9VlxcfOXKlcuWLbO2ti4oKHB3d6coSkTkL1uLs+4NICIiIikpyXpERESEwWBISEjIyspu2LCB9eCne86znv8p59+OBpygr6+/ffv2fz7+6d931l+HhITEwIEDP/2VfTpB+umv+G/P/8KIrNdKSUkNGzZs4cKF2traFEVt2LChX79+Pj4+Q4YMOXToUGtrK+suT3/7HvjzKJ+GZj1BUlJy9erVrG/XDRs2sL6pPt2dgpVK8L6jhg8fbmhoePr06cWLF5POAkIK67n+p6amJuv/ffz4sb29vb29/e7du7du3fq3l0yZMuXAgQMtLS3+/v6dH8jR0TEsLExeXr5nz55Pnz4VFRWl0+msWfKBAwdYz1FUVHz06NGTJ0++vPm+vLy8urp6cnJyv379JCUlKyoqPvs0RUXFzMzMx48fNzQ0dD4nfJUffvhBRkZm1apVz549q6io8PPzu3nz5j+fNnLkyA8fPuTn5ysrKzOZzOfPn3//0M7OzsePH+/WrVufPn2Ki4slJSXpdDqdTv/48ePevXtZxamoqFhUVFRYWPi3Rdr/5ODgwPr+lJWVLS0t/eykX1FR8fHjx6yVDd+fn0f4+Pjs3r2b9eYbgPvEfHx8SGdgp9TUVCkpKTMzs6994YcPHwoLCzP/n4eHx+vXrw8cOECn0x0cHLS0tPr06fPy5cuJEydSFEWn08XExPT09CwtLa9evRoWFmZraysnJ8f6v39WX1+vqKg4bNiwhoaGAQMGqKioUBQ1fvz40tJSPz+/xMREeXl5Q0NDAwODoKCgS5cuubq69uzZc8yYMaqqqq9fv758+bKKioq0tPSn17569Yo1SmNjo5KSkqqqqr29/dWrVwMDA1NTU4cNG6ahofHu3TtdXd2ePXsymcy6uroJEyYMGjTo/fv3ly5dUlJSGjBgwNd+cVJSUlg5v/aFfG337t2bN2/u/P0kREREZs2a9fjx41OnTl29enXw4MGsU9BiYmL6+voURdXX16urqysrK0+fPj0yMvLQoUOZmZn6+voqKiqvX782NzeXkJBobW2VlJQcOXIkRVFv3rwxMTH5dB6FpaWlRVxc3MjIqKWlRVpamnVFnL6+PoPB8PPzi46OZjAYlpaW+vr60dHRkZGRkyZNUlBQmDhxopycXI8ePS5evMiaoH96LWtoSUnJT0NPmDDh8ePHfn5+SUlJCgoKBgYGDQ0NAwcOZH3nvH792tLSsmfPnr169bpw4YKIiMhX3bJwz549mzdv7vzzuUlBQeH27dttbW26urqks4AwErSTTtu3b5eVlcX9ndjL29tbQ0NDCO+32NDQgPs7sRGTyZSWluaR+y1+Vk5OjoODQ0lJyaePfgC4BuerAQD+oKenp66uHh0dTToICCP0MQDA/2zbtu2XX37p6OggHQSEDvoYAOB/TExMVFRU2Lg7HkAnoY8BAP7Cx8dn586dX77YDIDt0McAAH9hamqqrKwcGxtLOggIFwFcQ5iamtre3k46hUDJzMzs/H2EBImvry/WV7MRH13NsWPHjsWLF8+ePVtUFJMW4BJB6+Np06bR6XThubs4k8l8+vRpZmYmk8k0MjJSV1fnxD8f5ubmEyZMYPthedyuXbtqa2tJp2CPxsbG2NhYLS0tY2Njskl2795NNkAnmZmZKSkpnT9/3sHBgXQWEBaCdv2x0Lp3756vr29RUdGSJUuWLl3K2gAZ4JN3797Z2NiMHTt2z549mPR3Rnp6+uLFiwsKCjBFBu7A95mAGDNmTFJSUkpKSk1Njbq6upeXV01NDelQwEPk5OSuX79Oo9E8PDywUqkzzMzM+vXrh0+RgWvQxwJl6NChgYGB2dnZEhISenp6S5Ysefr0KelQwCt69Ohx6dKlV69ezZkzB7s0d8bPP//8888/4+0LcAf6WAApKyvv37//6dOnampqVlZWM2bMePDgAelQwBMkJSWjo6NFRUWnT5/e0tJCOg6vYy20xnZdwB34/FjAtbW1RUVF7d+/X1JScuXKlXPmzBETEyMdCghjMpmrV6/OyclJTEzEUoMve/DgwcKFCwsLC/GDA5yG+bGAExcXnzt3bkFBQUBAQGxsrIaGRmBgICZGQk5ERCQgIMDGxmb8+PGvX78mHYenmZqaDh48OCoqinQQEHyYHwuXzMzM/fv3p6ene3p6enh4yMnJkU4EJO3bt+/06dMpKSn9+/cnnYV30Wg0Z2fn4uJi3PQJOArzY+FiZGQUExOTlpZWU1MzbNiwVatWVVZWkg4FxKxfv97Ly2vs2LFlZWWks/AuAwOD4cOHh4eHkw4CAg7zY+FVX19/6tSpAwcO6Orqbt26ddSoUaQTARnx8fFeXl4JCQm6urqks/CogoICe3v7x48fS0hIkM4CAkvMx8eHdAYgQ0pKysTEZNmyZUwmc926dVFRUX369FFXV8dmEcJm2LBhOjo6jo6Oo0aNUlFRIR2HFykqKt67d6++vt7Q0JB0FhBYmB8DRVEUg8FISEjYv39/Y2Pj2rVrnZycMA8QNvfu3XN0dDxx4oS1tTXpLLzoyZMnEydOfPLkSdeuXUlnAcGE+TFQFEWJiIgMHz580aJFOjo6J06c2Lx5c3t7+4gRIyQlJUlHAy5RUVEZP368s7PzgAEDtLS0SMfhOfLy8tnZ2TU1NSYmJqSzgGDC/Bg+49mzZ0FBQefOnXNyclqzZg3OYQqP8vLySZMmrVu3bvHixaSz8JzKysoxY8aUlJRIS0uTzgICCOur4TOGDBkSGBhYWFgoJydnYmLi4OCQmZlJOhRwg6qq6p07d4KDg/ft20c6C88ZNGiQjY3NoUOHSAcBwYT5MfyHpqamkydPBgQEqKmprV271srKinQi4LjXr19PmjTJ2tqaX26PyDXPnz8fNWpUcXFxz549SWcBQYM+hk5hMBiXL1/es2dPU1PTmjVrnJ2dxcXFSYcCDvrw4cPUqVOHDx9++PBh3HDwz1atWiUtLb1z507SQUDQoI/h69y7dy8oKCg9Pd3Nzc3Lyws7fAmw1tbWH3/8UUJCIjw8HG+/Pnn9+rWOjk5ubq6ioiLpLCBQ8LYXvs6YMWNiYmJu3LjB2uFr/fr1L168IB0KOEJSUjImJqZr166TJ09ubGwkHYdX9OnTZ+HChXv37iUdBAQN+hi+xbBhw44dO5afny8hIWFoaDhv3rz8/HzSoYD9xMTEjh8/Pnz48MmTJ79//550HF6xbt26c+fOVVdXkw4CAgXnq+F7tba2RkdH7969W15efsOGDba2ttjhS/D4+vpGRkampKT069ePdBaesHfv3rKysuPHj5MOAoIDfQzswVrwtXfv3sbGxmXLls2dO1dKSop0KGCnw4cP+/v7p6SkDBkyhHQW8lpaWoYPH3716tXhw4eTzgICAvtzAXuIiIhoaGgsWrRoxIgRp0+f3rJlS3t7u7a2NlpZYBgbG8vJyc2fP3/ixIkKCgqk4xAmLi4uJSV14sQJBwcH0llAQODzY2CzMWPGxMfHX79+/dmzZ+rq6t7e3lVVVaRDAXu4uroGBwdbW1s/evSIdBbyFi1alJeXhy8FsAv6GDhCXV09JCSksLBQUVFxzJgxdnZ2Dx8+JB0K2MDOzu7s2bMzZsxITk4mnYUwcXHxHTt2bN26lXQQEBD4/Bg4jrXgy9fXV05OzsvLa8aMGWJiYqRDwXcpLCy0s7Pz9fUV8rO1TCbT0NBw7969EydOJJ0F+B76GLiEwWAkJSX5+fnV1dV5e3u7urri5lF8rbS0dPLkyevXr3d3dyedhaSUlJQNGzZkZ2djFzP4TvgGAi4RFRW1t7dPS0s7c+ZMWlqaqqqqj49PXV0d6VzwjYYOHcq684SQ73FtbW0tLy8fExNDOgjwPcyPgYzKysqQkJBTp0798MMPmzZtwkUjfOrdu3e2trYGBgYBAQFCO0HMzMx0cnIqKSmRkJAgnQX4mJD+/ABxgwYN2rt37+PHj7W1ta2tradPn37v3j3SoeCrycnJXbt2rbS0dN68eW1tbaTjkGFkZKSvr3/s2DHSQYC/YX4M5LW1tZ07d+7gwYMSEhLe3t4zZ87s0qUL6VDwFeh0+ty5c5ubm6Ojo7t27Uo6DgHl5eUWFhbFxcUyMjKkswC/wvwYyBMXF3d1dc3JyfHz84uMjBw4cKCPj8+7d+9I54LOkpCQiIqKUlNTGz9+/Js3b0jHIUBVVdXe3v7AgQOkgwAfw/wYeE5ZWVlwcHB0dLSjo6O3t/fAgQNJJ4LOYm1znZycrKysTDoLt71+/XrkyJE0Gk1JSYl0FuBLmB8Dz1FTUwsMDMzPz5eTkzMzM/vxxx+zsrJIh4JO2bBhw5IlSywtLZ89e0Y6C7f16dNnyZIlO3bsIB0E+BXmx8DTWlpaIiIi/P39FRQUvL297ezshHYRLx85e/bsxo0bExMTdXV1SWfhqsbGxuHDhycnJ2tpaZHOAvwHfQx8gMlk3rx5MzAwsKSkZMWKFW5ubt27dycdCr7k5s2brq6up0+fFraNq0JDQ69cuZKQkEA6CPAfTDWAD4iIiFhZWSUlJZ0/f55Go6mpqW3ZsqW2tpZ0LvhXEyZMSEhIWLBgQWxsLOksXOXm5vbs2bNbt26RDgL8B30M/ERXVzc8PJxGozEYDH19/Xnz5uXm5pIOBZ9nZGR0/fr19evXh4WFkc7CPWJiYnv27Nm0aRNOPcLXwvlq4FcfP36MiYnZu3dvr169cJsKnlVTUzN58uTJkyfv3buXdBbusbS0XLJkiZOTE+kgwE/Qx8DfGAzGrVu3AgMDHz9+vHz5cny0zIPevXtnZ2enq6sbFBQkJMvxcnNzZ86cWVRUJCUlRToL8A2h+NkAASYqKsr6aDk6OjorK2vo0KFbtmypqakhnQv+h7WnZkVFxZw5c+h0Ouk43KCrq2tmZhYcHEw6CPAT9DEICH19/YiIiMzMTAaDYWBgMHfu3JycHNKh4A/dunWLj4+XkJCwtbVtaGggHYcb9u7dGxAQgDuYQefhfDUIoNbW1ujoaF9fXzk5OXy0zDuYTOaOHTsuXbp05coVBQUF0nE4bvPmzY2NjUFBQaSDAH9AH4PAYjAYV65cCQgIqKqq8vLymj9/fo8ePUiHAio4ODgwMPDq1atDhw4lnYWzGhoaNDU1U1JSNDU1SWcBPoA+BsGXl5cXEBBw9erVuXPnLl++XEVFhXQiYRcVFbVhw4b4+Hh9fX3SWTgL24NA5+HzYxB8I0eOPHnyZH5+fu/evceMGWNnZ3fjxg3SoYSas7PzqVOn7OzskpOTSWfhLDc3t4qKiuvXr5MOAnwA82MQLnQ6PSEh4cCBAx0dHStXrnR2dhYXFycdSkgVFBRMnTp19+7dzs7OpLNwUEpKyoYNG2g0GhYxwJeJ+fj4kM4AwD1iYmJaWlqLFy9WU1M7ceLEli1b6HS6pqZm165dSUcTOoqKinZ2dm5ubu3t7aampqTjcIqamlpiYmJra6vAn5yH74T5MQi10tLS4ODgmJiYadOmeXl5DR8+nHQiofPy5cspU6aMHTv2wIEDIiIipONwxOPHj62srIqLi2VkZEhnAd6FPgagGhoaoqKiDh48KC8vj+ujuK+pqcnBwaFr166RkZGCuqHV8uXLZWRkdu/eTToI8C70McAfOjo6EhISAgMDX716tXLlSldXV1wfxTVtbW2LFy9+/vz5xYsXBXISWVdXp6Ojk56ePmjQINJZgEdhfTXAH8TExGbMmHHnzp0zZ848fPhQTU1t3bp1lZWVpHMJBXFx8ZMnT5qYmFhYWAjkdqfy8vIbNmxYv3496SDAu9DHAH+nr69/+vTp/Px8eXl5CwsL1vVROJPEaSIiIrt27Vq5cqWZmVleXh7pOOy3bNmykpKSO3fukA4CPArnqwG+pLW19dy5c0FBQUwmk3V9lKSkJOlQAi4xMdHT0/Ps2bMWFhaks7DZjRs31q1bl5WVhQUK8E+43gngS7p06aKrq7tkyRJNTc2IiIh169bV19draGhIS0uTjiawNDQ0zMzMnJyc+vfvr6WlRToOO6mqqiYmJtLpdFz7BP+E+THAV6itrQ0NDT127NiYMWPc3d2trKxIJxJY5eXlNjY2Tk5OAjZnKCsrs7S0LCwslJWVJZ0FeAv6GOCrse4f5efn16VLlyVLlri6umI7EU548+aNvb29gYGBv7+/qKjgLHbx9vYWExPbv38/6SDAW9DHAN8uNTU1ODg4IyPDzc1tyZIlSkpKpBMJmqamJtaeppGRkQLzpufDhw/a2trXr1/X0NAgnQV4iOC85QTgPktLywsXLty7d6+5uVlfX3/OnDkPHz4kHUqgdO/e/eLFi/369bO0tHz16hXpOOwhIyOzdevWNWvWkA4CvAXzYwD2YJ3EPnjwoJiYGE5is11gYOChQ4cuXbokGHNKBoMxatSoHTt22NjYkM4CvAJ9DMBmt2/fPnTo0IMHDxYuXLh06VJlZWXSiQRETEyMt7d3dHT06NGjSWdhg/T09Hnz5hUWFuIKOmDB+WoANhs3btz58+cfPHjQ3t5uZGTk4OCQlpZGOpQgcHBwOH/+vJOT05kzZ0hnYQMzMzMjI6OgoCDSQYBXYH4MwEGtra2JiYkBAQFv3rzx8PBwc3Pr3r076VD8rby83NbW1sHBQQCug/rtt9+MjIyys7OxEhAo9DEAdzx8+DA4OPjmzZsuLi4eHh5DhgwhnYiPvXnzZtq0aRoaGkePHhUXFycd57v88ssvZWVlp06dIh0EyMP5agBuMDExOXPmTG5urqysrKWl5ZQpU65evcpgMEjn4ku9e/e+ceMGnU6fPHny+/fvScf5LuvWrXvw4MHdu3dJBwHyMD8G4DYGg3H58uWgoKCKiorFixe7ubn17t2bdCj+w2Qyd+zYcfbs2cuXLw8dOpR0nG+XkJDw888/Z2ZmCtKeJ/AN8NcPwG2ioqJ2dnbXr19PSEioqqrS1NR0c3PLyckhnYvPiIiI+Pj4bNu2bfz48enp6aTjfDt7e3sFBYXjx4+TDgKEYX4MQNiHDx/Cw8OPHDkiKyvr6enp4OCAC2C+Snp6upOT065du1xdXUln+UZlZWUWFhYFBQU4UyLM0McAvIJGowUGBiYnJzs7O3t5eamqqpJOxDeePXtmZ2fn4ODw008/iYiIkI7zLTZs2NDU1HTo0CHSQYAY9DEAb6mpqTl27Nivv/46cuRIT0/PSZMm4WPFznj37p2Dg0Pv3r1PnjzJjzujNTY2amlpJSQk6Orqks4CZKCPAXhRW1tbQkLC0aNHKyoq3N3dFy5cqKCgQDoUr+vo6PD29k5LS0tMTBwwYADpOF8tKirqyJEjaWlpfDrFh++E990AvEhcXHzWrFk3b95MSUl5//69rq6ug4PDjRs38Ab6C8TExAIDA93c3MzNzWk0Guk4X411JyvB2H0MvgHmxwB8oLm5+dy5cyEhIc3NzUuXLnV1dcXd7L/g+vXr8+fPP3jwoKOjI+ksX6e4uNja2rqwsBB/v0IIfQzAT7KyskJCQhITE6dOnbpkyRIjIyPSiXhUWVmZvb29nZ3d7t27+esDeG9vb4qiDh48SDoIcBv6GID/fPjw4dy5c0eOHGHd2/HHH3/s0aMH6VA85/37987OzlJSUuHh4dLS0qTjdNaHDx+0tbWvXLmira1NOgtwFT+9bQQAFhkZGXd399zc3MDAwLt37w4ZMsTT0zM3N5d0Lt7Ss2dP1v2SjYyMnjx5QjpOZ8nIyOzevdvDwwOTJWGDPgbgY2PGjImIiCguLlZTU3N2dh41h8+TjgAAHLhJREFUatSvv/7a1NREOhevEBMT27t377Zt2yZMmHDjxg3ScTprzpw5Xbp0iYqKIh0EuArnqwEEB41GO3bsWEJCgr29/dKlS/X09Egn4hVZWVmzZ8/29PRcu3YtX1xNVFBQMGXKlMLCQhkZGdJZgEvQxwCC5s2bN6dPnw4LC5ORkXFzc3NycuKjT085p66uzsnJSV5e/tdff+WLu1CvXr1aVFTUz8+PdBDgEvQxgMBiTZfj4uLGjx/v7u5uZWVFOhFhbW1ta9asSUtLi4uL4/1bUDc0NGhraycmJo4cOZJ0FuAG9DGAgHv//n1kZGRYWJiIiIibm5uLi0vPnj1JhyIpKipqzZo1R44cmTZtGuks/yEyMjI0NBQ7dgkJ9DGAsMjIyAgLC0tISLC2tnZzc7OwsBDaf+Vzc3Nnz57t4uKybds2Xr46mclkWlpaLlq0iH9vXQWdhz4GEC4fP35MSko6duxYVVXVjz/+uHDhQhUVFdKhCHj79q2rqyuTyYyMjOzVqxfpOP+KtWNXQUGBkJ/VEAa8+8YQADhBSkpq9uzZ169fv3jxYn19/ahRo6ZPn56UlNTe3k46Glf16tUrKSnJxMTE2NiYlze71tTUdHR0/Omnn0gHAY7D/BhAqLW2tiYkJJw4caKoqMjFxWXBggXq6uqkQ3FVSkrKokWLtmzZ4uHhQTrL5zU0NIwYMSI+Pv7Pt2IsKioaNmyYmJgYwWDAXuhjAKAoiqqurj516tSpU6f69++/aNGiWbNm8cVFQWzx/PlzR0fHwYMHh4aG8ubOozExMf7+/vfv3//0affo0aOPHj2qo6NDNhiwEc5XAwBFUZSKisr27dvLysp++umna9euDR48eNGiRffu3SOdixsGDBhw584dBQUFY2PjgoIC0nE+w8HBQU5O7uTJk58ekZeXf/36NcFIwHaYHwPAZ9TX10dHR4eHh79+/drZ2Xn+/PmDBg0iHYrj4uPjly1b9vPPPy9atIh0lr8rLS0dN25cXl6evLw8RVFubm5WVlZOTk6kcwHbYH4MAJ8hKyvr7u5+7969uLi4Dx8+mJqa2tjYxMbGtra2ko7GQdOmTbt///6xY8fmzJnT0NBAOs5fDB06dMGCBZs3b2b9tk+fPq9evSIbCdgLfQwAX6KtrX3w4MHq6mp3d/czZ84MHDhw+fLlmZmZpHNxyqBBg+7du6ekpGRoaJidnU06DpWTk/Pp11u2bLl169aDBw8oiurTpw/OVwsY9DEA/DdxcfFp06bFx8fn5+cPGTLEzc1NW1v7wIEDv//+O+lo7CcuLn7gwAF/f397e/vAwECCH+q1t7cvXbrU3t7++fPnFEV17do1ODh4yZIl7e3t6GPBgz4GgK+goKCwevXqvLy8iIiI58+f6+np2draxsTEfPz4kXQ0NrOxsXn06FFiYuLUqVNJNV+XLl0ePHgwZcoUY2NjX1/fjo6OyZMnDxo0yNfXF30seNDHAPAt9PT0AgMDf/vtt1WrVp0/f15FRWXu3Lk3btwQpCWi/fr1u379upmZmYGBwbVr14hkEBUVdXd3p9FoWVlZhoaGGRkZu3fv3r59e319PfpYwGB9NQCwQV1dXVRUVHh4+IcPH1xdXV1cXARpPXZGRoaLi4utre2ePXskJSVJxUhKSlqxYoW1tXVpaWlZWVn37t1LSkpIhQG2w/wYANhAXl5+xYoVmZmZFy9ebGxstLCwGDdu3IkTJz58+EA6GhsYGxtnZ2e/f//e2Ni4sLCQVAw7O7v8/HwJCYny8vLa2trq6mpSSYATMD8GAPZjMBi3bt2KiIi4evWqlZWVq6vrxIkTu3TpQjrX94qLi/Py8lq7dq2XlxfBu2NlZGRMnjy5ubl5xYoVvHx/KpZu3bpt3rxZAP72OQ19DAAc1NjYeOHChcjIyKKiIgcHBxcXFwMDA9KhvsuLFy8WLlzY0dFx8uTJAQMGEMkQHx+/c+fOJUuWEBn9a0VHR0+fPn358uWkg/A69DEAcENNTc3Zs2cjIiLa29tdXFzmzJnDv/d5ZDKZhw8f3rNnj6+vr4uLC5dHp9PpI0aMCA8PHzVqFJeH/jYVFRWjR4/Oz89n7SwG/wZ9DABclZ+fHxERER0draqq6uLiMmvWLD69s++TJ0/mzZvXv3//o0eP9unTh2vj7tmz58mTJ6dOneLaiN9vy5YtHz58CA4OJh2Ep6GPAYAABoORnp4eGxt7/vx5fX392bNnz5o1q1u3bqRzfZ329nZfX9+jR48GBgbOnDmTCyO+fPlSX18/MzOzX79+XBiOXRobG7W0tC5dujRixAjSWXgX+hgASGppaUlKSjpz5szDhw/t7OzmzJkzduxY3l+j9Gd5eXnz5s3T1NQMDg7u3bs3R8eaP3++hobGpk2bODoKJ4SHh58+ffrmzZukg/AufvqmBwDB07VrVwcHh4SEhMePH1tYWOzevXvgwIFeXl58dKvHkSNHZmRkqKur6+rqXrx4kXMD0Wi0+/fvr169mnNDcI6rq2tTU1N8fDzpILwL82MA4C1VVVVnz549c+YMk8l0dnZ2dnYeMmQI6VCdkpubu2DBAg0NjeDgYLZ/osxkMi0sLLy9vadPn87eI3MNjUZzcnIqKCiQkpIinYUXYX4MALxl4MCBmzZtKiwsjIqKamxsnDBhgqmpaVBQEO/fu0JXVzcjI0NLS0tPTy8qKoq9B4+MjJSQkODfMqYoysDAwMzMLCAggHQQHoX5MQDwNCaTef/+/aioqLi4OB0dHWdn5+nTp/P4kuzCwsJFixYpKioePXpUWVn5+w/Y3Nysra0dHx+vo6Pz/UcjiE/Xo3GHmI+PD+kMAAD/SkREREVFZcqUKatWrVJQUEhKSvLy8kpPTxcREVFVVRUXFycd8DMUFBQWLlz48uXLBQsWSEtL6+vrf+dmXjt27BgwYMCCBQvYlZCUHj16tLa2xsbGTps2jXQWnoP5MQDwmZaWlitXrpw9ezYtLc3a2trJyemHH36QkJAgneszysvLly5d2traGhoaOmzYsG87iIDtp8HazyQiIsLY2Jh0Ft6C+TEA8BlxcXFNTU1HR8elS5e2tbWdPHly3bp1T5486dat28CBA3nqWik5OTkXFxdRUdF58+Y1NTWZmpqKiYn97Tk+Pj5NTU3q6ur/dhA3NzdXV1dLS0sOh+USMTExZWXlbdu2LVq0iOAe4DwI82MA4Htv3rw5f/78uXPnnj59OmPGDEdHx9GjR/PUv/WvXr3y9vbOyckJCQkxNzf/8//KysqaPXt2QUFBjx49/vnC1NTU5cuX5+bm8uaZ+W9mbW3t4uLi6upKOggPQR8DgOCoqamJjY2Njo5+8eLFrFmzHB0deeqk6PXr1z09PS0tLX19feXk5D49vnLlSnFxcT8/v789v6OjQ19ff9++fdbW1txNynHFxcU2NjaFhYWffRcinHjoxA4AwHfq168fa7VXWlpa3759PTw8hgwZsnnz5tzcXNLRKIqiJk6cyPoYWEdH58yZM58e37VrV1xcXHZ29t+eHxoaOnjwYMErY4qiNDU1p0yZsnfvXtJBeAjmxwAgyEpLS6Ojo2NiYuh0uoODg+P/tXfnQU3c/xvAM0iEEA6ppMohogIiAeRUcDg8EeoBLQlUUSw6A8qh8RaPouhQUCqgIoJgW20tkGC13idYKYLIJUSKSkegylVBCSh3vn/k93MYbW0LJJ8FntdfIWw++wz/PLx3N7teXmw2m3QomlAo9Pf3ZzAYR48eNTAwoNFoAoEgMjIyJyfn7QnmpqYmExOTjIyMD5xaHtQaGxtNTU1v376tr69POgsloI8BYFgoKyuTFLOcnJynp6enp2efL3geEGKxODk5OTQ0dPXq1Vu2bFFQUFi8ePH8+fMDAwMlG6xbt47BYAztCfLQoUO//PKLQCAgHYQS0McAMLyUlJSkpaWlpaUpKipyuVxPT0+CA2hDQ8OmTZvu3bsXFxenr69va2ubl5enra1dVlY2b948oVCopqZGKpsMdHV1WVpafv311/PmzSOdhTz0MQAMU0VFRWlpaXw+X1lZWVLMpA6cZmZmBgQEWFlZ6erqPn78OC0tzdXV1dPTcwjcAOQf3bx5c926dUVFRfLy8qSzEIY+BoDhrqCggM/np6WlqampcblcLpcr1WJOSEh48OABi8VisViampoff/wxi8VSV1ePjY2NjIxUUVEJCgq6dOlSXl4epb5LLT1ubm4uLi5r1qwhHYQw9DEAwP/Jz8+XTMzq6uqSYpbGo6VKSkoKCwvr6+tramoaGhoaGhokL5qbmxkMxosXL5hM5sWLF9/5mvIQVlFR4eDgUFJSIu2nR1Mc+hgA4F3379/n8/l8Pn/UqFEymJjfevHiRURERFVVVWpqqgx2Rx1bt25tb28f5o9+Qh8DAPyt/Px8STGrqqpyuVwOhyPVi7/q6+unTp2am5urq6srvb1QkEgkYrPZly5dMjExIZ2FGPQxAMA/k5xjFggETCaTw+FwudzJkycP+F5WrVqlp6e3a9euAV+Z+k6cOHH69OkbN26QDkIM+hgA4D8oLCwUCAR8Pl9RUZHD4Xh4ePybG4wUFxcLBIKwsLAP3FW7sLDw008/ffjwoZKS0oBGHhx6enrs7Ox27ty5aNEi0lnIQB8DAPRFcXGxZGIeMWKEh4cHh8MxMzP7u43fvHmzePFiQ0PDI0eO/GUli8ViJyen4OBgLpcrzdSUdvfuXR8fn9LSUgUFBdJZCEAfAwD0S2lpqUAgEAgEnZ2dHA6Hw+FYWFi8v1l7ezuHwxk7dmxCQsL7X2Q6ffr00aNH79y5Q6nHUsmet7e3ubn55s2bSQchAH0MADAwysrKJMXc2toqKWZra+veG3R0dHA4HBaLdfz48d6V/ObNGzabzefzraysZJ6aWp49e2ZtbV1QUKCpqUk6i6yhjwEABtijR48kxdzU1CQ5lD19+nTJ4NvR0cHlcjU0NHpXcmhoaH19fXx8PNHUVLF3797KysqkpCTSQWQNfQwAIC2VlZVnz57l8/lVVVWurq4LFy50dXXt6enx8vJiMBgnT56Ul5evrq62s7MrLCxksVik81JCW1sbm81OSUmxsbEhnUWm0McAAFJXWVmZnp6enJxcXl5ubGzs4+OTlZXFYDBOnTrl7e1tZ2fH4/FIZ6QQPp8fHR3966+/Dquz6ehjAADZyc/Pj4iIuH79ukgkYjKZY8aModPpxcXFdDqddDRqmTVrlp+f35IlS0gHkR30MQCALLx8+fLx48eP/t+DBw8eP37MYDBSUlJcXV1Jp6Oc4uJiNzc3oVDIZDJJZ5ER9DEAgLQ8efIkPDxcUsAjRoyYPHmygYGBgYGBoaGhoaFhZmbm5cuXz58/TzomRa1evXrs2LG7d+8mHURG0McAANLS0NBw8+ZNSQGrqKj0/lVzc7OJicn169elcd/NoaGxsdHMzCwrK0tPT490FllAHwMAELBx40Y5ObkDBw6QDkJp0dHRubm5KSkppIPIAvoYAEDWnjx5MmvWrNLSUjU1NdJZKK2rq8vCwuLIkSNOTk6ks0jdu/dsAwAAaVu3bl1oaCjK+B/Jy8tHR0fzeLzu7m7SWaQOfQwAIFPXr1+vqanx9fUlHWRwmDt3rra29okTJ0gHkTocrwYAkJ3Ozk4zM7OEhARHR0fSWQYNyeH9kpKSUaNGkc4iRZiPAQBk5/Dhw+bm5ijj/0RfX9/Ly2vv3r2kg0gX5mMAABmpr683Nze/e/fu+PHjSWcZZEQikYmJybVr14bw18MwHwMAyMjOnTv9/PxQxn2goqKyc+fO4OBg0kGkCH0MACALRUVF165d27x5M+kgg9WqVauampouXbpEOoi04Hg1AIAszJw5c/Xq1Z9//jnpIINYdnb2F198UVJSoqCgQDrLwMN8DAAgdampqZ2dnV5eXn1egc/nJyYmJicn5+TkvP/bpUuXvv+mWCyuqqqSvG5sbAwKCurDfq9evZqYmJiYmJiWltbS0tKHFWg02pIlS3p6evr22d5mzJhhaWkZFxfX/6UoCH0MACBdb968CQkJiYmJ6c/TfPfs2VNXV9fe3h4YGPj+XTY/+eST9z/S3d3t4OAgea2oqDh79uw+7DcuLq60tJRGo927d8/Gxqarq6sPi2RlZQ3UsdioqKgDBw7U1tYOyGqUgj4GAJCu/fv3z5kzx8bGpp/reHl5BQQExMTEpKamtrS0hIWFJSQkuLu7v3jxoqioiEajtba2bt682cXFxcfHp6KiIikpqbGx0d/fPzY2trOzUygU0mi0nJyclJSU7du3u7u7v3201JMnT/z8/Nzd3U+ePPn+fl1dXf38/KKiolpbW+vq6mg02tatW8+cOcPhcEpKSvLz85cvX+7p6Xn16lXJ9uXl5StXrvTw8BAIBO8sdezYsbeb9Y2Ojo6/v39oaGh/FqEoMQAASE11dbWmpmZtbW0/12Gz2eXl5WKxOCoqatGiRQ0NDXQ6PSkpqaampr29XUtLSywWR0ZGbt++vbm5uaKi4vnz5y9fvtTR0WlsbBSJRM+fP7eyshKLxd99992ECRMKCwvLysp0dXVFItGrV6/YbHZOTk5WVpaDg8PFixd773fRokW+vr4RERH+/v7Lli3r6ekRi8Xq6uq7d++ura19+vSpnp7e/fv3KyoqjIyMiouLW1tbJ06cePv27T/++MPa2vrGjRtisVhHR6e9vT0oKGjt2rXd3d39/FO0trbq6ekVFhb2cx2qwXwMACBFjx49YrFYLBar/0t99tlnFhYWGRkZBw8epNFoWlpaq1atGjt27MiRIyUb6OjoXLlyJT09XVlZWVNTk8lkysnJqaurKysr915n4cKF5ubmRkZGU6ZMefr06a1bt1RVVYuLixMTEzs6Oq5cufLOfjU1NfX09MaPH19RUdHU1CR5c9u2bWPGjMnNzXV2drayspo4ceLKlSt//vnnvLw8U1NTR0dHbW3t4ODgs2fPSrbncrkGBgaxsbFycv3tHSUlJSMjowcPHvRzHapBHwMASNHs2bO1tLS+/fbb/i915syZwsLCCxcu6Ovr02i09x9HsXTp0vj4+EePHtna2l6+fPnv1mEymZIXdDq9s7OztbVVRUVFXV194cKFGzduXLZs2Tvb29vbe3l5hYSE6OvrnzlzhkajMRgMyRXO7e3tDAZDshmDwWhra2tra3vnHclrVVXVgTrpe/Pmzerq6r+8hG1QQx8DAEjXwYMHv/zyy1evXkl7R8+ePbOxsQkPDw8MDMzOzpaXl29tbX39+vWHP+Xg4FBZWenk5MTlct3c3P7udiU1NTX5+fnjxo3r/aatre3Vq1dFIlFnZ6dAIHB0dLS0tMzJyWloaBCLxampqW/vDPrNN9+0tLQEBASI+3dhV1dXF4/Hi46OlpeX7886FIQ+BgCQrilTpnA4nPDw8P4sYmxsrKio+PZHeXl5Y2Pj3rug0Wjnz5+3s7NzdHS8cePGmjVraDRaaGioq6vrtm3b6HS6ZKoePXq0tra25FP6+vpKSkq6urrR0dFcLtfR0dHZ2Vly2ddbkyZN2rVrl7W19dKlSwMDA+fPn0+j0czMzCS/NTAw2Lp1q7Ozs5OT05w5c5ydnVksVnR09OLFix0cHPT09CRTrKmpqZycXGxsrJqa2vHjx/vzd4iLizMyMpo3b15/FqEm3A8EAEDqmpqaTExMMjIyDA0NSWcZxBobG83MzO7cuTNhwgTSWQYe+hgAQBbi4+OvXLly7tw50kEGsYCAgNGjRw/VBz2hjwEAZKG7u9vKyioiIsLFxYV0lkFJKBQuWLCgtLT0ncvFhwz0MQCAjGRlZfn7+xcVFdHpdNJZBh9nZ2cfH5/3L/8eMnA9FwCAjNjb20+ZMiU+Pp50kMEnPT1dJBJ5e3uTDiJFmI8BAGSnqqrKzs6uuLhYQ0ODdJZBo7293czM7NSpU9OmTSOdRYowHwMAyI6urq6vr+/QvP2y1ERFRc2YMWNolzEN8zEAgIy9fv3axMTk7Nmzb7/FCx9QW1trZWWVl5enpaVFOot0YT4GAJApJSWlsLAwHo9HOsjgsGXLlrVr1w75MqahjwEAZM/b27uzs1NyL2j4gJycnOzs7GHyvwuOVwMAEFBQUODp6VlaWtr7LpjQm1gstrOzCwkJcXNzI51FFjAfAwAQYGlp6eDgIHlyIvylkydPMpnMYVLGNMzHAACk1NXVWVpaDocrlfqgpaXF2Nj44sWLpqampLPICOZjAAAyxowZExwcHBISQjoIFYWHh7u7uw+fMqZhPgYAIKijo8PU1DQ5Odne3p50Fgr5/fff7e3tS0pKRo8eTTqL7GA+BgAgZuTIkZGRkTwer6enh3QWCtm0adOOHTuGVRnT0McAAGS5u7traGh8//33pINQxa1bt8rLy/39/UkHkTUcrwYAIOzhw4fz588XCoWqqqqksxDW3d1taWl54MABZ2dn0llkDfMxAABhxsbG7u7ukZGRpIOQd+zYsUmTJg3DMqZhPgYAoIKmpiYTE5PMzEwDAwPSWYgZ5n8E9DEAACUcOXIkIyMjPT2ddBBi1q5dq6ysHB4eTjoIGehjAABK6O7utrCwiIqKGp5Ha8vKypydnYfzSXScPwYAoIQRI0bExMRs2LChq6uLdBYC1q9fv2/fvmFbxjT0MQAAdcyePdvAwCAxMZF0EFk7d+7cn3/+uXz5ctJBSMLxagAAChmGt6bCTcokMB8DAFDIxIkTV6xYERYWRjqI7ERHR0+fPn2YlzEN8zEAANUMq0cb1dXVmZub5+bm6urqks5CGOZjAABqUVZWDgsLW79+PekgsrBt27agoCCUMQ19DABAQStWrBCJROfOnSMdRLoKCgoyMzOHyX8e/wjHqwEAqCgnJ2fZsmVCoVBBQYF0FqkQi8WOjo48Hs/Dw4N0FkrAfAwAQEW2trZ2dnYxMTGkg0jLDz/8QKfTUcZvYT4GAKCoZ8+eWVtbFxQUaGpqks4ywF6/fm1iYvLTTz9NnTqVdBaqwHwMAEBR2tragYGBO3bsIB1k4H311VcuLi4o494wHwMAUFdbWxubzf7xxx+nTZtGOsuAqa6utrW1LS4u1tDQIJ2FQjAfAwBQl6KiYmRkJI/HG0qz04YNG7Zs2YIyfgf6GACA0jgcjrKy8unTp0kHGRhZWVlCoTAgIIB0EMrB8WoAAKoTCoULFiwQCoVMJpN0ln7p6emZNm3avn37XFxcSGehHMzHAABUx2azXV1dIyMjSQfpr8TERC0tLZTxX8J8DAAwCDQ2NpqZmWVlZenp6ZHO0kcvX75ks9kZGRmGhoaks1AR+hgAYHCIiYnJzs5OS0sjHaSP1q9fT6fT9+/fTzoIRaGPAQAGh66uLgsLi8OHD8+cOZN0lv/st99+mzt3rlAoVFNTI52FonD+GABgcJCXl4+OjubxeN3d3aSz/GcbNmzYs2cPyvgD0McAAIPG3Llzx40bl5SURDrIf3PhwoXa2lpfX1/SQSgNx6sBAAaTiooKBweH0tLSjz76iHSWf6Wjo8PMzCwxMdHR0ZF0FkrDfAwAMJhMmjTJ29t73759pIP8W4cOHbK0tEQZ/yPMxwAAg0xzc7ONjU1DQwPpIP+KkpLS3bt3x40bRzoI1aGPAQAAyMPxagAAAPLQxwAAAOShjwEAAMhDHwMAAJCHPgYAACAPfQwAAEAe+hgAAIA89DEAAAB56GMAAADy0McAAADkoY8BAADIQx8DAACQhz4GAAAgD30MAABAHvoYAACAPPQxAAAAeehjAAAA8tDHAAAA5KGPAQAAyEMfAwAAkIc+BgAAIA99DAAAQB76GAAAgLz/ASEdi8yek7bEAAAAAElFTkSuQmCC\" />"
            ]
          }
        }
      ],
      "source": [
        "using GraphRecipes, Plots\n",
        "\n",
        "A = [0 1 1 1;\n",
        "    0 0 0 1;\n",
        "    0 0 0 1;\n",
        "    0 0 0 0]\n",
        "\n",
        "names = [\"Plant\", \"Land Treatment\", \"Chem Treatment\", \"Pristine Brook\"]\n",
        "# modify this dictionary to add labels\n",
        "edge_labels = Dict((1, 2) => \"\", (1,3) => \"\", (1, 4) => \"\",(2, 4) => \"\",(3, 4) => \"\")\n",
        "shapes=[:hexagon, :rect, :rect, :hexagon]\n",
        "xpos = [0, -1.5, -0.25, 1]\n",
        "ypos = [1, 0, 0, -1]\n",
        "\n",
        "graphplot(A, names=names,edgelabel=edge_labels, markersize=0.15, markershapes=shapes, markercolor=:white, x=xpos, y=ypos)"
      ],
      "id": "fig-wastewater"
    },
    {
      "cell_type": "markdown",
      "metadata": {},
      "source": [
        "#### Problem 4.2 (10 points)\n",
        "\n",
        "Formulate a mathematical model for the treatment cost and the amount of\n",
        "YUK that will be discharged into Pristine Brook based on the wastewater\n",
        "allocations. This is best done with some equations and supporting text\n",
        "explaining the derivation. Make sure you include, as additional\n",
        "equations in the model, any needed constraints on relevant values. You\n",
        "can find some basics on writing mathematical equations using the LaTeX\n",
        "typesetting syntax\n",
        "[here](https://viveks.me/environmental-systems-analysis/tutorials/latex-notebook.qmd),\n",
        "and a cheatsheet with LaTeX commands can be found on the course\n",
        "website’s [Resources\n",
        "page](https://viveks.me/environmental-systems-analysis/resources/markdown.qmd)."
      ],
      "id": "55581ae0-face-4008-b80b-11c3d40f9737"
    },
    {
      "cell_type": "markdown",
      "metadata": {},
      "source": [
        "#### Problem 4.3 (10 points)\n",
        "\n",
        "Implement this systems model as a Julia function which computes the\n",
        "resulting YUK concentration and cost for a particular treatment plan.\n",
        "You can return multiple values from a function with a\n",
        "[tuple](https://docs.julialang.org/en/v1/manual/functions/#Tuples-1), as\n",
        "in:"
      ],
      "id": "68f5c2e6-8960-4530-a303-c4e763fa1bb8"
    },
    {
      "cell_type": "code",
      "execution_count": 7,
      "metadata": {},
      "outputs": [
        {
          "output_type": "stream",
          "name": "stdout",
          "text": [
            "a = 7\n",
            "b = 10"
          ]
        }
      ],
      "source": [
        "function multiple_return_values(x, y)\n",
        "    return (x+y, x*y)\n",
        "end\n",
        "\n",
        "a, b = multiple_return_values(2, 5)\n",
        "@show a;\n",
        "@show b;"
      ],
      "id": "69f11a59"
    },
    {
      "cell_type": "markdown",
      "metadata": {},
      "source": [
        "Make sure you comment your code appropriately to make it clear what is\n",
        "going on and why."
      ],
      "id": "4511e111-b72d-4012-92cf-0e3f997e6fde"
    },
    {
      "cell_type": "markdown",
      "metadata": {},
      "source": [
        "#### Problem 4.4 (10 points)\n",
        "\n",
        "Use your function to experiment with some different combinations of\n",
        "wastewater discharge and treatment. Can you find one that satisfies the\n",
        "YUK effluent standard? What was the cost? You don’t have to find an\n",
        "“optimal” solution to this problem, but what do you think would be\n",
        "needed to find a better solution?"
      ],
      "id": "1570c6ea-d38d-4947-8743-f6ea2280a051"
    },
    {
      "cell_type": "markdown",
      "metadata": {},
      "source": [
        "## References\n",
        "\n",
        "List any external references consulted, including classmates."
      ],
      "id": "32f2216f-2e88-4e66-aac4-20ee4282db7b"
    }
  ],
  "nbformat": 4,
  "nbformat_minor": 5,
  "metadata": {
    "kernelspec": {
      "name": "julia-1.9",
      "display_name": "Julia 1.9.2",
      "language": "julia"
    },
    "language_info": {
      "name": "julia",
      "file_extension": ".jl",
      "mimetype": "application/julia",
      "version": "1.9.2"
    }
  }
}