{
  "cells": [
    {
      "cell_type": "markdown",
      "metadata": {},
      "source": [
        "# BEE 4750 Lab 1: Julia Basics\n",
        "\n",
        "**Name**:\n",
        "\n",
        "**ID**:\n",
        "\n",
        "> **Due Date**\n",
        ">\n",
        "> Friday, 9/1/23, 9:00pm\n",
        "\n",
        "## Setup\n",
        "\n",
        "The following code should go at the top of most Julia scripts; it will\n",
        "load the local package environment and install any needed packages. You\n",
        "will see this often and shouldn’t need to touch it."
      ],
      "id": "3c1a81dd-9440-4979-a8a7-968c268dda1c"
    },
    {
      "cell_type": "code",
      "execution_count": 1,
      "metadata": {},
      "outputs": [],
      "source": [
        "import Pkg\n",
        "Pkg.activate(\".\")\n",
        "Pkg.instantiate()"
      ],
      "id": "477b4d84"
    },
    {
      "cell_type": "markdown",
      "metadata": {},
      "source": [
        "This next cell loads packages which are required for the rest of the\n",
        "code evaluation. In this case, we only need to load the `Plots.jl`\n",
        "plotting package, but you will see others over the course of the\n",
        "semester (and can add more if desired; just make sure that you’ve [added\n",
        "the new packages to the\n",
        "environment](https://viveks.me/environmental-systems-analysis/tutorials/julia-basics.html#package-management)).\n",
        "Standard Julia practice is to load all of the needed packages at the top\n",
        "of the file."
      ],
      "id": "4f580169-abdd-4f8e-bc51-fa5b0cd89cad"
    },
    {
      "cell_type": "code",
      "execution_count": 2,
      "metadata": {},
      "outputs": [],
      "source": [
        "using Plots"
      ],
      "id": "07b13363"
    },
    {
      "cell_type": "markdown",
      "metadata": {},
      "source": [
        "## Introduction\n",
        "\n",
        "### Julia\n",
        "\n",
        "Julia is an up-and-coming language, originally developed for scientific\n",
        "programming. While learning a new programming language always has its\n",
        "hiccups, the good news is that if you’ve programmed in a high-level\n",
        "language such as Python or MATLAB, most Julia concepts should look\n",
        "familiar.\n",
        "\n",
        "If you have not successfully set up Julia, follow the instructions in\n",
        "[Tools\n",
        "Setup](https://viveks.me/environmental-systems-analysis/setup.html)\n",
        "and/or ask for help.\n",
        "\n",
        "You can use other editors for this course, but our recommendation is\n",
        "[Visual Studio Code](https://code.visualstudio.com/) with the [Julia\n",
        "extension](https://marketplace.visualstudio.com/items?itemName=julialang.language-julia),\n",
        "which will make life a *lot* simpler! You should have set this up by\n",
        "following the [Tools\n",
        "Setup](https://viveks.me/environmental-systems-analysis/setup.html)\n",
        "instructions, but if not, do so now and/or ask for help.\n",
        "\n",
        "### Jupyter Notebooks\n",
        "\n",
        "Jupyter notebooks integrate text and equations in Markdown with Julia\n",
        "(or Python, or R) code. To do this, Jupyter notebooks consist of two\n",
        "types of “cells”: code cells and Markdown (text) cells.\n",
        "\n",
        "Click once on this section of text. A box will appear around this text\n",
        "(and some areas above/below it) - all of that is within this cell.\n",
        "\n",
        "Markdown is a text markup framework for formatting language that makes\n",
        "things look pretty when viewed across different platforms: web browsers,\n",
        "notebooks, and so forth. Text written in Markdown can also include\n",
        "hyperlinks, LaTeX equations, section headers, and images, among other\n",
        "features (most of [the course\n",
        "website](https://viveks.me/climate-risk-analysis) and the lecture notes\n",
        "were all written in Markdown!). [Here is a basic Markdown cheat\n",
        "sheet](https://www.markdownguide.org/cheat-sheet/).\n",
        "\n",
        "What you are looking at right now is the formatted text after the\n",
        "Markdown is processed. To see the raw Markdown, do one of:\n",
        "\n",
        "-   press `Enter` while that cell is selected, or\n",
        "-   double-click on that cell.\n",
        "\n",
        "------------------------------------------------------------------------\n",
        "\n",
        "A couple of the features you will see in this Markdown cell:\n",
        "\n",
        "-   The `---` command creates a horizontal line. This is also nice for\n",
        "    separating sections.\n",
        "-   Backticks (`` `...` ``) can be used to format and highlight code,\n",
        "    keystrokes, etc.\n",
        "-   The `#` sign is used to create a new section header; two `#` signs\n",
        "    (`##`) is used to create a new subsection header; `###` creates a\n",
        "    subsubsection, and so on.\n",
        "-   You can create a bulleted list by using the asterisk `*` or a dash\n",
        "    `-` and a space.\n",
        "-   You can create regular text by just typing as usual.\n",
        "-   You can create **bold-faced text** by wrapping it with two asterisks\n",
        "    on both sides.\n",
        "-   You can create *italicized text* by wrapping it with a single\n",
        "    asterisk on both sides.\n",
        "-   To create a new paragraph, you must include a blank line between the\n",
        "    old and new paragraphs.\n",
        "\n",
        "At this point you might be wondering how to turn this cell back into the\n",
        "fully formatted Markdown text instead of the raw Markdown you’re\n",
        "probably still looking at. You have a couple of options, depending on\n",
        "your platform, but the most consistent is to type `Shift + Enter` to\n",
        "**execute** the cell (this is also how to run code, but more on that\n",
        "later).\n",
        "\n",
        "Additionally, you will frequently need to create new cells in your\n",
        "Jupyter notebooks. How you do this will depend on how you interact with\n",
        "the notebook, but try to figure this out now.\n",
        "\n",
        "One tip is to think carefully about what bits of code should be in the\n",
        "same cell, as you typically only see output from the last command in a\n",
        "cell. For example, compare the following:"
      ],
      "id": "e79943c9-11a5-42a4-9354-ecee0fdbeb12"
    },
    {
      "cell_type": "code",
      "execution_count": 3,
      "metadata": {},
      "outputs": [
        {
          "output_type": "display_data",
          "metadata": {},
          "data": {
            "text/plain": [
              "-0.9589242746631385"
            ]
          }
        }
      ],
      "source": [
        "x = 5\n",
        "sin(x)"
      ],
      "id": "e5ad907e"
    },
    {
      "cell_type": "markdown",
      "metadata": {},
      "source": [
        "with"
      ],
      "id": "87b74459-75de-4118-9c8a-6e941be80975"
    },
    {
      "cell_type": "code",
      "execution_count": 4,
      "metadata": {},
      "outputs": [
        {
          "output_type": "display_data",
          "metadata": {},
          "data": {
            "text/plain": [
              "5"
            ]
          }
        }
      ],
      "source": [
        "x = 5"
      ],
      "id": "526fb3fd"
    },
    {
      "cell_type": "code",
      "execution_count": 5,
      "metadata": {},
      "outputs": [
        {
          "output_type": "display_data",
          "metadata": {},
          "data": {
            "text/plain": [
              "-0.9589242746631385"
            ]
          }
        }
      ],
      "source": [
        "sin(x)"
      ],
      "id": "af5e6141"
    },
    {
      "cell_type": "markdown",
      "metadata": {},
      "source": [
        "In Julia, you can also suppress the output of a command with a\n",
        "semi-colon:"
      ],
      "id": "e8b8d9d8-95a8-470d-84b7-015bebf5a876"
    },
    {
      "cell_type": "code",
      "execution_count": 6,
      "metadata": {},
      "outputs": [],
      "source": [
        "sin(x);"
      ],
      "id": "fa388d18"
    },
    {
      "cell_type": "markdown",
      "metadata": {},
      "source": [
        "which can help if you want to split some code out for clarity or to\n",
        "insert some text prior to it, but don’t want to clutter the notebook\n",
        "with its output.\n",
        "\n",
        "For code cells, to execute the commands within the cell, we also press\n",
        "`Shift+Enter`.\n",
        "\n",
        "Finally, **make sure that you evaluate all of the code cells in order\n",
        "before submitting**. One bad outcome with notebooks occurs when cells\n",
        "are evaluated out of order, so fixed bugs and edits in previous cells do\n",
        "not get a chance to propagate down. You can do this with the `Run All`\n",
        "command in whichever interface you’re using to edit your notebook.\n",
        "\n",
        "### Julia Basics\n",
        "\n",
        "There are many tutorials and references for Julia, including a [basics\n",
        "overview on the class website](../tutorials/julia-basics.html). Please\n",
        "feel free to reference these as you work through any part of the course.\n",
        "\n",
        "### Formatting Math\n",
        "\n",
        "It will often be helpful to include nicely-formatted mathematics in a\n",
        "notebook. Markdown accomodates this using LaTeX syntax. A LaTeX\n",
        "cheatsheet is available on the class website, and many other guides\n",
        "exist online.\n",
        "\n",
        "Below is an example of a formatted equation: $$x = 5.$$\n",
        "\n",
        "### Looking For Help\n",
        "\n",
        "There is no shame in using Google, or other resources, for help when\n",
        "programming. There are many, many times when you can’t quite get the\n",
        "syntax to work, can’t quite figure out the right package or command to\n",
        "use, or are feeling too lazy or overwhelmed (I’m not judging either of\n",
        "those!) to dig through the documentation. Some good resources include:\n",
        "\n",
        "-   [Stack Overflow](https://stackoverflow.com/) is a treasure trove of\n",
        "    answers;\n",
        "-   The [official Julia forum](https://discourse.julialang.org/) and the\n",
        "    [Julia Subreddit](https://www.reddit.com/r/Julia/) are also very\n",
        "    useful.\n",
        "\n",
        "You are also highly encouraged to post on [Ed\n",
        "Discussion](https://us.edstem.org), though getting a response might be\n",
        "less immediate. Just be mindful that to get good answers, [you have to\n",
        "help people help you](https://stackoverflow.com/help/how-to-ask), and\n",
        "**make sure to give credit to any resources that were helpful**!\n",
        "\n",
        "## Exercises\n",
        "\n",
        "Use your understanding of Julia syntax to complete the following\n",
        "(hopefully short) exercises. Convert your completed notebook to a PDF\n",
        "and submit it to the Gradescope Assignment “Lab 1”.\n",
        "\n",
        "**Remember to**:\n",
        "\n",
        "-   Evaluate all of your code cells, in order (using a `Run All`\n",
        "    command). This will make sure all output is visible and that the\n",
        "    code cells were evaluated in the correct order.\n",
        "-   Tag each of the problems when you submit to Gradescope; a 10%\n",
        "    penalty will be deducted if this is not done.\n",
        "\n",
        "### Exercise 1\n",
        "\n",
        "Given two numeric arrays `x` and `y`, write a function to compute their\n",
        "dot product if they have equal length, and return an error if not (this\n",
        "is useful for debugging!). Use the following code as a starting point."
      ],
      "id": "7aca549e-2dce-4094-bbc8-df0de49404c4"
    },
    {
      "cell_type": "code",
      "execution_count": 7,
      "metadata": {},
      "outputs": [],
      "source": [
        "function dot_product(x, y)\n",
        "    if ... # insert test condition for equal lengths\n",
        "        # compute and return dot product\n",
        "    else\n",
        "        throw(DimensionMismatch(\"length of x not equal to length of y\"))\n",
        "    end\n",
        "end"
      ],
      "id": "0a75e6cd"
    },
    {
      "cell_type": "markdown",
      "metadata": {},
      "source": [
        "Here are some tests to make sure your code works as intended. Tests like\n",
        "these are useful to make sure everything works as intended. One reason\n",
        "to split your code up into functions is that it makes it straightforward\n",
        "to write tests to make sure each piece of your code works, which makes\n",
        "it easier to identify where errors are occuring."
      ],
      "id": "4e54ec69-de99-4bed-a580-9dfabbb99e36"
    },
    {
      "cell_type": "code",
      "execution_count": 8,
      "metadata": {},
      "outputs": [],
      "source": [
        "dot_product([1 2 3], [4 5 6])"
      ],
      "id": "df6baeb7"
    },
    {
      "cell_type": "markdown",
      "metadata": {},
      "source": [
        "If you know the value you should get, you can write a more formal test\n",
        "using the `@assert` macro, which is a good way to “automate” checking\n",
        "(since you get an obvious error if the code doesn’t work as desired):"
      ],
      "id": "1b5fd487-8bd8-49ad-bdd4-10ca0a6a0fc7"
    },
    {
      "cell_type": "code",
      "execution_count": 9,
      "metadata": {},
      "outputs": [],
      "source": [
        "@assert dot_product([1 2 3], [4 5 6]) == 32"
      ],
      "id": "a4985b2d"
    },
    {
      "cell_type": "markdown",
      "metadata": {},
      "source": [
        "Let’s also make sure we get an error when the dimensions of the two\n",
        "vectors don’t match:"
      ],
      "id": "7ad0f6ef-66d8-4d45-a7df-1380eb888d7a"
    },
    {
      "cell_type": "code",
      "execution_count": 10,
      "metadata": {},
      "outputs": [],
      "source": [
        "dot_product([1 2 3], [4 5])"
      ],
      "id": "6f0b04df"
    },
    {
      "cell_type": "markdown",
      "metadata": {},
      "source": [
        "### Exercise 2\n",
        "\n",
        "This problem involves implementing Newton’s method for computing square\n",
        "roots; it was shamelessly copied from MIT’s [Introduction to\n",
        "Computational\n",
        "Thinking](https://computationalthinking.mit.edu/Spring21/hw0/). You will\n",
        "use a `while` loop instead of the `for` loop shown above.\n",
        "\n",
        "Implement the following algorithm in a function `newton_sqrt`:\n",
        "\n",
        "Given $x > 0$:\n",
        "\n",
        "1.  Take a guess $a$.\n",
        "2.  Divide $x$ by $a$.  \n",
        "3.  Update $a$ as the average of $x/a$ and $a$.\n",
        "4.  Repeat until $x/a$ is within a tolerance of $\\varepsilon$ from $a$.\n",
        "5.  Return $a \\approx \\sqrt{x}$."
      ],
      "id": "c3ed0045-da67-457f-bbae-c0caf0c0936d"
    },
    {
      "cell_type": "code",
      "execution_count": 11,
      "metadata": {},
      "outputs": [],
      "source": [
        "# insert your code here"
      ],
      "id": "4a67a9f4"
    },
    {
      "cell_type": "markdown",
      "metadata": {},
      "source": [
        "Use your `newton_sqrt` function to compute $\\sqrt{2}$ to within a\n",
        "tolerance of $\\varepsilon = 0.01$."
      ],
      "id": "60d0321f-9f73-49ca-875c-38dd25dbb86d"
    },
    {
      "cell_type": "code",
      "execution_count": 12,
      "metadata": {},
      "outputs": [],
      "source": [
        "# insert your code here"
      ],
      "id": "b8d3ac79"
    },
    {
      "cell_type": "markdown",
      "metadata": {},
      "source": [
        "### Exercise 3: Making a Plot\n",
        "\n",
        "Write a function to compute the square of an integer `x`. Evaluate this\n",
        "function for integers between $x=-5$ and $x=5$ and make a plot of the\n",
        "squared values (you can find a quick guide to making various types of\n",
        "plots [here](../tutorials/julia-plots.html)). Make sure to label your\n",
        "axes."
      ],
      "id": "618a7c9a-de79-4053-b727-5ffedb75ec1c"
    },
    {
      "cell_type": "code",
      "execution_count": 13,
      "metadata": {},
      "outputs": [],
      "source": [
        "# insert your code here"
      ],
      "id": "f65a555e"
    },
    {
      "cell_type": "markdown",
      "metadata": {},
      "source": [
        "## Export the Notebook\n",
        "\n",
        "The last step is to export the notebook for submission to Gradescope\n",
        "(this section won’t be repeated going forward, but the steps are the\n",
        "same).\n",
        "\n",
        "You should see the following menu bar at the top of the VS Code window:\n",
        "![Notebook Menu Bar](attachment:figures/vs-code-top-bar.png)\n",
        "\n",
        "1.  Click “Run All” at the top to execute all of the cells in order.\n",
        "    **Please do not forget to do this before exporting and submitting or\n",
        "    you may lose points because your code has not been executed or may\n",
        "    have errors**.\n",
        "2.  Click the ellipsis (“…”) and select “Export”. If you have LaTeX\n",
        "    installed, you can click “PDF”; otherwise, click “HTML.” Save the\n",
        "    file, and then when prompted, open the file. This should open the\n",
        "    page in your browser; go to the print interface and save as a PDF.\n",
        "    ::: {.callout-tip} When printing to PDF, long lines will run off the\n",
        "    edge of code cells, which may result in comments or code being\n",
        "    hidden. If you see this, go back to the notebook and break up long\n",
        "    lines into shorter onces (for example, see the comment in the above\n",
        "    code cell) to ensure key parts of your results aren’t missing. :::\n",
        "\n",
        "Great! That’s the basic workflow for every assignment in this course.\n",
        "\n",
        "Now you have your PDF that you can submit to Gradescope. Make sure that\n",
        "you tag pages corresponding to relevant problems to avoid a 10% penalty."
      ],
      "attachments": {
        "figures/vs-code-top-bar.png": {
          "image/png": "[encoded data removed]"
        }
      },
      "id": "1d9fdcc2-b5f0-4d65-987c-baf7c51925ce"
    }
  ],
  "nbformat": 4,
  "nbformat_minor": 5,
  "metadata": {
    "kernelspec": {
      "name": "julia-1.9",
      "display_name": "Julia 1.9.2",
      "language": "julia"
    },
    "language_info": {
      "name": "julia",
      "file_extension": ".jl",
      "mimetype": "application/julia",
      "version": "1.9.2"
    }
  }
}